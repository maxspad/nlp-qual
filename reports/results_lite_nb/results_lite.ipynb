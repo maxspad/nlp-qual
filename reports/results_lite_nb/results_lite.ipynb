{
 "cells": [
  {
   "cell_type": "raw",
   "metadata": {},
   "source": [
    "---\n",
    "title: \"NLP-QuAL Results\"\n",
    "format:\n",
    "  html:\n",
    "    toc: true\n",
    "    echo: false\n",
    "jupyter: python3\n",
    "---"
   ]
  },
  {
   "cell_type": "code",
   "execution_count": 1,
   "metadata": {},
   "outputs": [],
   "source": [
    "import pandas as pd \n",
    "import numpy as np\n",
    "import matplotlib.pyplot as plt\n",
    "import seaborn as sns\n",
    "from IPython.display import display, Markdown\n",
    "import mlflow\n",
    "import os\n",
    "\n",
    "os.chdir('../../')\n",
    "\n",
    "def md(s : str):\n",
    "    display(Markdown(s))\n",
    "\n",
    "def count_and_percent(df: pd.DataFrame, col : str):\n",
    "    qc = pd.DataFrame(df[col].value_counts()).sort_index().rename({col:'Count'}, axis=1)\n",
    "    qcn = (qc / len(df) * 100).rename({'Count':'Percent of Total'}, axis=1)\n",
    "    return pd.concat([qc, qcn], axis=1)\n",
    "\n",
    "### Load Data\n",
    "df = pd.read_pickle('data/interim/masterdbForNLPSpacyProc.pkl')\n",
    "train = pd.read_pickle('data/processed/train.pkl')\n",
    "test = pd.read_pickle('data/processed/test.pkl')\n"
   ]
  },
  {
   "cell_type": "markdown",
   "metadata": {},
   "source": [
    "## QuAL Score\n",
    "As a review, the QuAL score aims to assess the quality of written feedback for medical trainees. It has been validated in a GME context. It ranges from 0 (lowest quality) to 6 (highest quality). It is the sum of three subscores:\n",
    "\n",
    "* Q1 - Does the rater provide sufficient evidence about resident performance? (Rated on a three-point scale: 0-no comment at all, 1-no, but comment present, 2-somewhat, 3-yes/full description)\n",
    "* Q2 - Suggestion - Does the rater provide a suggestion for improvement? (0-no/1-yes)\n",
    "* Q3 - Connection - Is the rater’s suggestion linked to the behavior described? (0-no/1-yes)\n",
    "\n",
    "## Data Descriptives and Demographics"
   ]
  },
  {
   "cell_type": "code",
   "execution_count": 2,
   "metadata": {},
   "outputs": [
    {
     "data": {
      "text/markdown": [
       "\n",
       "We analyzed 2500 evaluations, with 1250 from Site 1 (McMaster) and 1250 from Site 2 (Saskatchewan). \n"
      ],
      "text/plain": [
       "<IPython.core.display.Markdown object>"
      ]
     },
     "metadata": {},
     "output_type": "display_data"
    }
   ],
   "source": [
    "#| echo: false\n",
    "md(f\"\"\"\n",
    "We analyzed {len(df)} evaluations, with {len(df[df['dataSource'] == 'Mac'])} from Site 1 (McMaster) and {len(df[df['dataSource'] == 'Sas'])} from Site 2 (Saskatchewan). \n",
    "\"\"\")"
   ]
  },
  {
   "cell_type": "markdown",
   "metadata": {},
   "source": [
    "For each evaluation, the QuAL score was rated by two separate raters. Each sub-score (Q1, Q2, and Q3) was rated and then summed to get the final QuAL score. Discrepancies were broken by members of the study team (who?) "
   ]
  },
  {
   "cell_type": "code",
   "execution_count": 3,
   "metadata": {},
   "outputs": [
    {
     "data": {
      "text/markdown": [
       "The average QuAL score was 2.6408, with standard deviation \n",
       "1.275, median 3.0"
      ],
      "text/plain": [
       "<IPython.core.display.Markdown object>"
      ]
     },
     "metadata": {},
     "output_type": "display_data"
    }
   ],
   "source": [
    "md(f\"\"\"The average QuAL score was {df['QUAL'].mean()}, with standard deviation \n",
    "{df['QUAL'].std():.3f}, median {df['QUAL'].median()}\"\"\")"
   ]
  },
  {
   "cell_type": "markdown",
   "metadata": {},
   "source": [
    "Descriptive statistics for the subscores and QuAL Score were:"
   ]
  },
  {
   "cell_type": "code",
   "execution_count": 34,
   "metadata": {},
   "outputs": [
    {
     "data": {
      "text/html": [
       "<div>\n",
       "<style scoped>\n",
       "    .dataframe tbody tr th:only-of-type {\n",
       "        vertical-align: middle;\n",
       "    }\n",
       "\n",
       "    .dataframe tbody tr th {\n",
       "        vertical-align: top;\n",
       "    }\n",
       "\n",
       "    .dataframe thead th {\n",
       "        text-align: right;\n",
       "    }\n",
       "</style>\n",
       "<table border=\"1\" class=\"dataframe\">\n",
       "  <thead>\n",
       "    <tr style=\"text-align: right;\">\n",
       "      <th></th>\n",
       "      <th>Q1</th>\n",
       "      <th>Q2</th>\n",
       "      <th>Q3</th>\n",
       "      <th>QUAL</th>\n",
       "    </tr>\n",
       "  </thead>\n",
       "  <tbody>\n",
       "    <tr>\n",
       "      <th>count</th>\n",
       "      <td>2500.000000</td>\n",
       "      <td>2500.000000</td>\n",
       "      <td>2500.000000</td>\n",
       "      <td>2500.000000</td>\n",
       "    </tr>\n",
       "    <tr>\n",
       "      <th>mean</th>\n",
       "      <td>2.277200</td>\n",
       "      <td>0.193600</td>\n",
       "      <td>0.170000</td>\n",
       "      <td>2.640800</td>\n",
       "    </tr>\n",
       "    <tr>\n",
       "      <th>std</th>\n",
       "      <td>0.860149</td>\n",
       "      <td>0.395198</td>\n",
       "      <td>0.375708</td>\n",
       "      <td>1.275157</td>\n",
       "    </tr>\n",
       "    <tr>\n",
       "      <th>50%</th>\n",
       "      <td>3.000000</td>\n",
       "      <td>0.000000</td>\n",
       "      <td>0.000000</td>\n",
       "      <td>3.000000</td>\n",
       "    </tr>\n",
       "  </tbody>\n",
       "</table>\n",
       "</div>"
      ],
      "text/plain": [
       "                Q1           Q2           Q3         QUAL\n",
       "count  2500.000000  2500.000000  2500.000000  2500.000000\n",
       "mean      2.277200     0.193600     0.170000     2.640800\n",
       "std       0.860149     0.395198     0.375708     1.275157\n",
       "50%       3.000000     0.000000     0.000000     3.000000"
      ]
     },
     "execution_count": 34,
     "metadata": {},
     "output_type": "execute_result"
    }
   ],
   "source": [
    "#| label: tbl-descrips\n",
    "#| tbl-cap: Descriptive Statistics for Subscores/QuAL\n",
    "cols = ['Q1','Q2','Q3','QUAL']\n",
    "df[cols].describe().loc[['count','mean','std','50%'],:]"
   ]
  },
  {
   "cell_type": "markdown",
   "metadata": {},
   "source": [
    "### Score Distributions\n",
    "#### Subscores"
   ]
  },
  {
   "cell_type": "code",
   "execution_count": 5,
   "metadata": {},
   "outputs": [
    {
     "data": {
      "text/html": [
       "<div>\n",
       "<style scoped>\n",
       "    .dataframe tbody tr th:only-of-type {\n",
       "        vertical-align: middle;\n",
       "    }\n",
       "\n",
       "    .dataframe tbody tr th {\n",
       "        vertical-align: top;\n",
       "    }\n",
       "\n",
       "    .dataframe thead tr th {\n",
       "        text-align: left;\n",
       "    }\n",
       "</style>\n",
       "<table border=\"1\" class=\"dataframe\">\n",
       "  <thead>\n",
       "    <tr>\n",
       "      <th></th>\n",
       "      <th colspan=\"2\" halign=\"left\">Q1</th>\n",
       "      <th colspan=\"2\" halign=\"left\">Q2</th>\n",
       "      <th colspan=\"2\" halign=\"left\">Q3</th>\n",
       "    </tr>\n",
       "    <tr>\n",
       "      <th></th>\n",
       "      <th>Count</th>\n",
       "      <th>Percent of Total</th>\n",
       "      <th>Count</th>\n",
       "      <th>Percent of Total</th>\n",
       "      <th>Count</th>\n",
       "      <th>Percent of Total</th>\n",
       "    </tr>\n",
       "  </thead>\n",
       "  <tbody>\n",
       "    <tr>\n",
       "      <th>0</th>\n",
       "      <td>105</td>\n",
       "      <td>4.20</td>\n",
       "      <td>2016.0</td>\n",
       "      <td>80.64</td>\n",
       "      <td>2075.0</td>\n",
       "      <td>83.0</td>\n",
       "    </tr>\n",
       "    <tr>\n",
       "      <th>1</th>\n",
       "      <td>359</td>\n",
       "      <td>14.36</td>\n",
       "      <td>484.0</td>\n",
       "      <td>19.36</td>\n",
       "      <td>425.0</td>\n",
       "      <td>17.0</td>\n",
       "    </tr>\n",
       "    <tr>\n",
       "      <th>2</th>\n",
       "      <td>774</td>\n",
       "      <td>30.96</td>\n",
       "      <td>NaN</td>\n",
       "      <td>NaN</td>\n",
       "      <td>NaN</td>\n",
       "      <td>NaN</td>\n",
       "    </tr>\n",
       "    <tr>\n",
       "      <th>3</th>\n",
       "      <td>1262</td>\n",
       "      <td>50.48</td>\n",
       "      <td>NaN</td>\n",
       "      <td>NaN</td>\n",
       "      <td>NaN</td>\n",
       "      <td>NaN</td>\n",
       "    </tr>\n",
       "  </tbody>\n",
       "</table>\n",
       "</div>"
      ],
      "text/plain": [
       "     Q1                       Q2                       Q3                 \n",
       "  Count Percent of Total   Count Percent of Total   Count Percent of Total\n",
       "0   105             4.20  2016.0            80.64  2075.0             83.0\n",
       "1   359            14.36   484.0            19.36   425.0             17.0\n",
       "2   774            30.96     NaN              NaN     NaN              NaN\n",
       "3  1262            50.48     NaN              NaN     NaN              NaN"
      ]
     },
     "execution_count": 5,
     "metadata": {},
     "output_type": "execute_result"
    }
   ],
   "source": [
    "#| label: tbl-distsubscore\n",
    "#| tbl-cap: Subscore Rating Counts/Frequencies\n",
    "pd.concat({\n",
    "    'Q1':count_and_percent(df, 'Q1'),\n",
    "    'Q2':count_and_percent(df, 'Q2'),\n",
    "    'Q3':count_and_percent(df, 'Q3')\n",
    "}, axis=1)"
   ]
  },
  {
   "cell_type": "markdown",
   "metadata": {},
   "source": [
    "The distribution for the subscores is plotted below:"
   ]
  },
  {
   "cell_type": "code",
   "execution_count": 6,
   "metadata": {},
   "outputs": [
    {
     "data": {
      "image/png": "[encoded data removed]",
      "text/plain": [
       "<Figure size 432x288 with 1 Axes>"
      ]
     },
     "metadata": {
      "needs_background": "light"
     },
     "output_type": "display_data"
    },
    {
     "data": {
      "image/png": "[encoded data removed]",
      "text/plain": [
       "<Figure size 432x288 with 1 Axes>"
      ]
     },
     "metadata": {
      "needs_background": "light"
     },
     "output_type": "display_data"
    },
    {
     "data": {
      "image/png": "[encoded data removed]",
      "text/plain": [
       "<Figure size 432x288 with 1 Axes>"
      ]
     },
     "metadata": {
      "needs_background": "light"
     },
     "output_type": "display_data"
    }
   ],
   "source": [
    "#| layout-ncol: 3\n",
    "#| label: fig-distsubscores\n",
    "#| fig-cap: Distribution of QuAL Subscores\n",
    "#| fig-subcap: \n",
    "#|  - \"Q1\"\n",
    "#|  - \"Q2\"\n",
    "#|  - \"Q3\"\n",
    "f = sns.countplot(x='Q1', hue='dataSource', data=df)\n",
    "plt.show(f)\n",
    "f2 = sns.countplot(x='Q2', hue='dataSource', data=df)\n",
    "plt.show(f2)\n",
    "f3 = sns.countplot(x='Q3', hue='dataSource', data=df)\n",
    "plt.show(f3)"
   ]
  },
  {
   "cell_type": "markdown",
   "metadata": {},
   "source": [
    "Evaluations tended to score highly (> 2) on Q1, but poorly (80% 0 and 83% 0, respectively) on Q2 and Q3. There were large differences in scores between the two sites.\n",
    "\n",
    "#### QuAL Score\n",
    "The table below shows the raw counts and percentages associated with each level of the rated QuAL score."
   ]
  },
  {
   "cell_type": "code",
   "execution_count": 7,
   "metadata": {},
   "outputs": [
    {
     "data": {
      "text/html": [
       "<div>\n",
       "<style scoped>\n",
       "    .dataframe tbody tr th:only-of-type {\n",
       "        vertical-align: middle;\n",
       "    }\n",
       "\n",
       "    .dataframe tbody tr th {\n",
       "        vertical-align: top;\n",
       "    }\n",
       "\n",
       "    .dataframe thead th {\n",
       "        text-align: right;\n",
       "    }\n",
       "</style>\n",
       "<table border=\"1\" class=\"dataframe\">\n",
       "  <thead>\n",
       "    <tr style=\"text-align: right;\">\n",
       "      <th></th>\n",
       "      <th>Count</th>\n",
       "      <th>Percent of Total</th>\n",
       "    </tr>\n",
       "  </thead>\n",
       "  <tbody>\n",
       "    <tr>\n",
       "      <th>0</th>\n",
       "      <td>100</td>\n",
       "      <td>4.00</td>\n",
       "    </tr>\n",
       "    <tr>\n",
       "      <th>1</th>\n",
       "      <td>338</td>\n",
       "      <td>13.52</td>\n",
       "    </tr>\n",
       "    <tr>\n",
       "      <th>2</th>\n",
       "      <td>685</td>\n",
       "      <td>27.40</td>\n",
       "    </tr>\n",
       "    <tr>\n",
       "      <th>3</th>\n",
       "      <td>957</td>\n",
       "      <td>38.28</td>\n",
       "    </tr>\n",
       "    <tr>\n",
       "      <th>4</th>\n",
       "      <td>77</td>\n",
       "      <td>3.08</td>\n",
       "    </tr>\n",
       "    <tr>\n",
       "      <th>5</th>\n",
       "      <td>343</td>\n",
       "      <td>13.72</td>\n",
       "    </tr>\n",
       "  </tbody>\n",
       "</table>\n",
       "</div>"
      ],
      "text/plain": [
       "   Count  Percent of Total\n",
       "0    100              4.00\n",
       "1    338             13.52\n",
       "2    685             27.40\n",
       "3    957             38.28\n",
       "4     77              3.08\n",
       "5    343             13.72"
      ]
     },
     "execution_count": 7,
     "metadata": {},
     "output_type": "execute_result"
    }
   ],
   "source": [
    "#| label: tbl-distqual\n",
    "#| tbl-cap: QuAL Rating Counts/Frequencies\n",
    "count_and_percent(df, 'QUAL')"
   ]
  },
  {
   "cell_type": "markdown",
   "metadata": {},
   "source": [
    "The distribution of the QuAL score is plotted below:"
   ]
  },
  {
   "cell_type": "code",
   "execution_count": 8,
   "metadata": {},
   "outputs": [
    {
     "data": {
      "image/png": "[encoded data removed]",
      "text/plain": [
       "<Figure size 432x288 with 1 Axes>"
      ]
     },
     "metadata": {
      "needs_background": "light"
     },
     "output_type": "display_data"
    }
   ],
   "source": [
    "#| label: fig-distqual\n",
    "#| fig-cap: Distribution of QuAL Subscores\n",
    "plt.show(sns.countplot(x='QUAL', hue='dataSource', data=df))"
   ]
  },
  {
   "cell_type": "markdown",
   "metadata": {},
   "source": [
    "This table shows the counts/frequencies for each possible combination of subscores. For each possible final QuAL score, the table shows the combination fo subscores most likely to generate that QuAL score."
   ]
  },
  {
   "cell_type": "code",
   "execution_count": 25,
   "metadata": {},
   "outputs": [
    {
     "data": {
      "text/html": [
       "<div>\n",
       "<style scoped>\n",
       "    .dataframe tbody tr th:only-of-type {\n",
       "        vertical-align: middle;\n",
       "    }\n",
       "\n",
       "    .dataframe tbody tr th {\n",
       "        vertical-align: top;\n",
       "    }\n",
       "\n",
       "    .dataframe thead th {\n",
       "        text-align: right;\n",
       "    }\n",
       "</style>\n",
       "<table border=\"1\" class=\"dataframe\">\n",
       "  <thead>\n",
       "    <tr style=\"text-align: right;\">\n",
       "      <th></th>\n",
       "      <th></th>\n",
       "      <th></th>\n",
       "      <th></th>\n",
       "      <th>Count</th>\n",
       "      <th>Percent of Total</th>\n",
       "    </tr>\n",
       "    <tr>\n",
       "      <th>QUAL</th>\n",
       "      <th>Q1</th>\n",
       "      <th>Q2</th>\n",
       "      <th>Q3</th>\n",
       "      <th></th>\n",
       "      <th></th>\n",
       "    </tr>\n",
       "  </thead>\n",
       "  <tbody>\n",
       "    <tr>\n",
       "      <th>0</th>\n",
       "      <th>0</th>\n",
       "      <th>0</th>\n",
       "      <th>0</th>\n",
       "      <td>100</td>\n",
       "      <td>4.00</td>\n",
       "    </tr>\n",
       "    <tr>\n",
       "      <th rowspan=\"2\" valign=\"top\">1</th>\n",
       "      <th>0</th>\n",
       "      <th>1</th>\n",
       "      <th>0</th>\n",
       "      <td>5</td>\n",
       "      <td>0.20</td>\n",
       "    </tr>\n",
       "    <tr>\n",
       "      <th>1</th>\n",
       "      <th>0</th>\n",
       "      <th>0</th>\n",
       "      <td>333</td>\n",
       "      <td>13.32</td>\n",
       "    </tr>\n",
       "    <tr>\n",
       "      <th rowspan=\"3\" valign=\"top\">2</th>\n",
       "      <th rowspan=\"2\" valign=\"top\">1</th>\n",
       "      <th>0</th>\n",
       "      <th>1</th>\n",
       "      <td>1</td>\n",
       "      <td>0.04</td>\n",
       "    </tr>\n",
       "    <tr>\n",
       "      <th>1</th>\n",
       "      <th>0</th>\n",
       "      <td>21</td>\n",
       "      <td>0.84</td>\n",
       "    </tr>\n",
       "    <tr>\n",
       "      <th>2</th>\n",
       "      <th>0</th>\n",
       "      <th>0</th>\n",
       "      <td>663</td>\n",
       "      <td>26.52</td>\n",
       "    </tr>\n",
       "    <tr>\n",
       "      <th rowspan=\"4\" valign=\"top\">3</th>\n",
       "      <th>1</th>\n",
       "      <th>1</th>\n",
       "      <th>1</th>\n",
       "      <td>4</td>\n",
       "      <td>0.16</td>\n",
       "    </tr>\n",
       "    <tr>\n",
       "      <th rowspan=\"2\" valign=\"top\">2</th>\n",
       "      <th>0</th>\n",
       "      <th>1</th>\n",
       "      <td>2</td>\n",
       "      <td>0.08</td>\n",
       "    </tr>\n",
       "    <tr>\n",
       "      <th>1</th>\n",
       "      <th>0</th>\n",
       "      <td>41</td>\n",
       "      <td>1.64</td>\n",
       "    </tr>\n",
       "    <tr>\n",
       "      <th>3</th>\n",
       "      <th>0</th>\n",
       "      <th>0</th>\n",
       "      <td>910</td>\n",
       "      <td>36.40</td>\n",
       "    </tr>\n",
       "    <tr>\n",
       "      <th rowspan=\"3\" valign=\"top\">4</th>\n",
       "      <th>2</th>\n",
       "      <th>1</th>\n",
       "      <th>1</th>\n",
       "      <td>68</td>\n",
       "      <td>2.72</td>\n",
       "    </tr>\n",
       "    <tr>\n",
       "      <th rowspan=\"2\" valign=\"top\">3</th>\n",
       "      <th>0</th>\n",
       "      <th>1</th>\n",
       "      <td>7</td>\n",
       "      <td>0.28</td>\n",
       "    </tr>\n",
       "    <tr>\n",
       "      <th>1</th>\n",
       "      <th>0</th>\n",
       "      <td>2</td>\n",
       "      <td>0.08</td>\n",
       "    </tr>\n",
       "    <tr>\n",
       "      <th>5</th>\n",
       "      <th>3</th>\n",
       "      <th>1</th>\n",
       "      <th>1</th>\n",
       "      <td>343</td>\n",
       "      <td>13.72</td>\n",
       "    </tr>\n",
       "  </tbody>\n",
       "</table>\n",
       "</div>"
      ],
      "text/plain": [
       "               Count  Percent of Total\n",
       "QUAL Q1 Q2 Q3                         \n",
       "0    0  0  0     100              4.00\n",
       "1    0  1  0       5              0.20\n",
       "     1  0  0     333             13.32\n",
       "2    1  0  1       1              0.04\n",
       "        1  0      21              0.84\n",
       "     2  0  0     663             26.52\n",
       "3    1  1  1       4              0.16\n",
       "     2  0  1       2              0.08\n",
       "        1  0      41              1.64\n",
       "     3  0  0     910             36.40\n",
       "4    2  1  1      68              2.72\n",
       "     3  0  1       7              0.28\n",
       "        1  0       2              0.08\n",
       "5    3  1  1     343             13.72"
      ]
     },
     "execution_count": 25,
     "metadata": {},
     "output_type": "execute_result"
    }
   ],
   "source": [
    "#| label: tbl-qualcounts\n",
    "#| tbl-cap: Subscore Combinations/Counts for each QuAL Score\n",
    "vc = df[cols].value_counts(normalize=False)\n",
    "vc = pd.DataFrame(vc).reset_index()\n",
    "vc = vc.set_index(['QUAL','Q1','Q2','Q3'])\n",
    "vc = vc.sort_index().rename({0:'Count'}, axis=1)\n",
    "vc = pd.concat([vc, (vc / 2500 * 100).rename({'Count':'Percent of Total'}, axis=1)], axis=1)\n",
    "vc"
   ]
  },
  {
   "cell_type": "markdown",
   "metadata": {},
   "source": [
    "This table yields some interesting insights. The QuAL score subscores are dependent on one another. Based on the structure of the subscores, it follows that if the evaluation is not detailed enough (Q1 $\\leq$ 2), it's unlikely to contain a suggestion for improvement (Q1 = 0), and there can be no linking between behavior and improvement (Q3 = 0). The table backs this up, with the vast majority of Q2 and Q3 rated as zero if Q1 $\\leq$ 2. If the evaluation is highly detailed (Q3 = 3), then naturally it is more likely to have a suggestion for improvement (Q2 = 1), and based on the table, it's also likely to link the suggestion to the behavior (Q3 = 1). Q3 is essentially redundant; Q3 is discrepant from Q2 in only 3.1% of all evaluations. \n",
    "\n",
    "This means that the QuAL score can be reduced to three primary outcomes:\n",
    "\n",
    "* Q1 $\\leq$ 2 - low detail, very unlikely (<10%) to contain suggestion for improvement \n",
    "* Q1 = 3; Q2 and Q3 = 0 - high detail,  no suggestion for improvement\n",
    "* Q1 = 3; Q2 and Q3 = 1 - high detail, with suggestion for improvement, extremely likely to have connection between behavior/suggestion\n",
    "\n",
    "These three scenarios fit 2,349/2,500 = 94% of evaluations. This provides an opportunity to condense the QuAL score from 6 levels (0-5) to 3. Although the remainder of the results below do *not* condense the QuAL score, this could be a good way to boost accuracy results in a way that does not compromise the integrity of the score itself. \n",
    "\n",
    "### Interrater Reliability\n",
    "This table shows the percent agreement for the QUAL score and each subscore"
   ]
  },
  {
   "cell_type": "code",
   "execution_count": 10,
   "metadata": {},
   "outputs": [
    {
     "data": {
      "text/html": [
       "<div>\n",
       "<style scoped>\n",
       "    .dataframe tbody tr th:only-of-type {\n",
       "        vertical-align: middle;\n",
       "    }\n",
       "\n",
       "    .dataframe tbody tr th {\n",
       "        vertical-align: top;\n",
       "    }\n",
       "\n",
       "    .dataframe thead tr th {\n",
       "        text-align: left;\n",
       "    }\n",
       "</style>\n",
       "<table border=\"1\" class=\"dataframe\">\n",
       "  <thead>\n",
       "    <tr>\n",
       "      <th></th>\n",
       "      <th colspan=\"2\" halign=\"left\">Q1Match</th>\n",
       "      <th colspan=\"2\" halign=\"left\">Q2Match</th>\n",
       "      <th colspan=\"2\" halign=\"left\">Q3Match</th>\n",
       "      <th colspan=\"2\" halign=\"left\">QUALMatch</th>\n",
       "    </tr>\n",
       "    <tr>\n",
       "      <th></th>\n",
       "      <th>Count</th>\n",
       "      <th>Percent of Total</th>\n",
       "      <th>Count</th>\n",
       "      <th>Percent of Total</th>\n",
       "      <th>Count</th>\n",
       "      <th>Percent of Total</th>\n",
       "      <th>Count</th>\n",
       "      <th>Percent of Total</th>\n",
       "    </tr>\n",
       "  </thead>\n",
       "  <tbody>\n",
       "    <tr>\n",
       "      <th>False</th>\n",
       "      <td>1059</td>\n",
       "      <td>42.36</td>\n",
       "      <td>188</td>\n",
       "      <td>7.52</td>\n",
       "      <td>606</td>\n",
       "      <td>24.24</td>\n",
       "      <td>1426</td>\n",
       "      <td>57.04</td>\n",
       "    </tr>\n",
       "    <tr>\n",
       "      <th>True</th>\n",
       "      <td>1441</td>\n",
       "      <td>57.64</td>\n",
       "      <td>2312</td>\n",
       "      <td>92.48</td>\n",
       "      <td>1894</td>\n",
       "      <td>75.76</td>\n",
       "      <td>1074</td>\n",
       "      <td>42.96</td>\n",
       "    </tr>\n",
       "  </tbody>\n",
       "</table>\n",
       "</div>"
      ],
      "text/plain": [
       "      Q1Match                  Q2Match                  Q3Match  \\\n",
       "        Count Percent of Total   Count Percent of Total   Count   \n",
       "False    1059            42.36     188             7.52     606   \n",
       "True     1441            57.64    2312            92.48    1894   \n",
       "\n",
       "                       QUALMatch                   \n",
       "      Percent of Total     Count Percent of Total  \n",
       "False            24.24      1426            57.04  \n",
       "True             75.76      1074            42.96  "
      ]
     },
     "execution_count": 10,
     "metadata": {},
     "output_type": "execute_result"
    }
   ],
   "source": [
    "#| label: tbl-percentmatch\n",
    "#| tbl-cap: Interrater Agreement Counts and Frequencies\n",
    "pd.concat({\n",
    "    'Q1Match' : count_and_percent(df, 'Q1Match'),\n",
    "    'Q2Match' : count_and_percent(df, 'Q2Match'),\n",
    "    'Q3Match' : count_and_percent(df, 'Q3Match'),\n",
    "    'QUALMatch' : count_and_percent(df, 'perfectMatch')\n",
    "}, axis=1)"
   ]
  },
  {
   "cell_type": "code",
   "execution_count": 11,
   "metadata": {},
   "outputs": [
    {
     "data": {
      "text/html": [
       "<div>\n",
       "<style scoped>\n",
       "    .dataframe tbody tr th:only-of-type {\n",
       "        vertical-align: middle;\n",
       "    }\n",
       "\n",
       "    .dataframe tbody tr th {\n",
       "        vertical-align: top;\n",
       "    }\n",
       "\n",
       "    .dataframe thead th {\n",
       "        text-align: right;\n",
       "    }\n",
       "</style>\n",
       "<table border=\"1\" class=\"dataframe\">\n",
       "  <thead>\n",
       "    <tr style=\"text-align: right;\">\n",
       "      <th></th>\n",
       "      <th>Cohen's Kappa</th>\n",
       "    </tr>\n",
       "  </thead>\n",
       "  <tbody>\n",
       "    <tr>\n",
       "      <th>Q1</th>\n",
       "      <td>0.387601</td>\n",
       "    </tr>\n",
       "    <tr>\n",
       "      <th>Q2</th>\n",
       "      <td>0.751249</td>\n",
       "    </tr>\n",
       "    <tr>\n",
       "      <th>Q3</th>\n",
       "      <td>0.351520</td>\n",
       "    </tr>\n",
       "    <tr>\n",
       "      <th>QuAL</th>\n",
       "      <td>0.317628</td>\n",
       "    </tr>\n",
       "  </tbody>\n",
       "</table>\n",
       "</div>"
      ],
      "text/plain": [
       "      Cohen's Kappa\n",
       "Q1         0.387601\n",
       "Q2         0.751249\n",
       "Q3         0.351520\n",
       "QuAL       0.317628"
      ]
     },
     "execution_count": 11,
     "metadata": {},
     "output_type": "execute_result"
    }
   ],
   "source": [
    "#| label: tbl-kappa\n",
    "#| tbl-cap: Cohen's Kappas\n",
    "from sklearn.metrics import cohen_kappa_score\n",
    "pd.DataFrame(pd.Series([\n",
    "    cohen_kappa_score(df['q1p1'], df['q1p2']),\n",
    "    cohen_kappa_score(df['q2p1'], df['q2p2']),\n",
    "    cohen_kappa_score(df['q3p1'], df['q3p2']),\n",
    "    cohen_kappa_score(df['P1QualScore'], df['P2QualScore'])\n",
    "], index=['Q1','Q2','Q3','QuAL']), columns=['Cohen\\'s Kappa'])"
   ]
  },
  {
   "cell_type": "markdown",
   "metadata": {},
   "source": [
    "Cohen's Kappas were calculated and are presented above. There was fair agreement for all scores except for Q2, which had substantial agreement. This was before any tiebreaking/discrepancy correction. \n",
    "\n",
    "### Other Demographics and Descriptive Statistics\n",
    "These may or may not be relevant. "
   ]
  },
  {
   "cell_type": "code",
   "execution_count": 12,
   "metadata": {},
   "outputs": [
    {
     "data": {
      "text/html": [
       "<div>\n",
       "<style scoped>\n",
       "    .dataframe tbody tr th:only-of-type {\n",
       "        vertical-align: middle;\n",
       "    }\n",
       "\n",
       "    .dataframe tbody tr th {\n",
       "        vertical-align: top;\n",
       "    }\n",
       "\n",
       "    .dataframe thead tr th {\n",
       "        text-align: left;\n",
       "    }\n",
       "</style>\n",
       "<table border=\"1\" class=\"dataframe\">\n",
       "  <thead>\n",
       "    <tr>\n",
       "      <th></th>\n",
       "      <th colspan=\"2\" halign=\"left\">GenderRes</th>\n",
       "      <th colspan=\"2\" halign=\"left\">GenderFac</th>\n",
       "    </tr>\n",
       "    <tr>\n",
       "      <th></th>\n",
       "      <th>Count</th>\n",
       "      <th>Percent of Total</th>\n",
       "      <th>Count</th>\n",
       "      <th>Percent of Total</th>\n",
       "    </tr>\n",
       "  </thead>\n",
       "  <tbody>\n",
       "    <tr>\n",
       "      <th>Female</th>\n",
       "      <td>1037.0</td>\n",
       "      <td>41.48</td>\n",
       "      <td>877</td>\n",
       "      <td>35.08</td>\n",
       "    </tr>\n",
       "    <tr>\n",
       "      <th>Male</th>\n",
       "      <td>1463.0</td>\n",
       "      <td>58.52</td>\n",
       "      <td>1447</td>\n",
       "      <td>57.88</td>\n",
       "    </tr>\n",
       "    <tr>\n",
       "      <th>Unknown</th>\n",
       "      <td>NaN</td>\n",
       "      <td>NaN</td>\n",
       "      <td>176</td>\n",
       "      <td>7.04</td>\n",
       "    </tr>\n",
       "  </tbody>\n",
       "</table>\n",
       "</div>"
      ],
      "text/plain": [
       "        GenderRes                  GenderFac                 \n",
       "            Count Percent of Total     Count Percent of Total\n",
       "Female     1037.0            41.48       877            35.08\n",
       "Male       1463.0            58.52      1447            57.88\n",
       "Unknown       NaN              NaN       176             7.04"
      ]
     },
     "execution_count": 12,
     "metadata": {},
     "output_type": "execute_result"
    }
   ],
   "source": [
    "#| label: tbl-gender\n",
    "#| tbl-cap: Reported Genders (actually sexes) of Residents and Faculty\n",
    "pd.concat({\n",
    "    c : count_and_percent(df, c)\n",
    "    for c in ['GenderRes','GenderFac']\n",
    "}, axis=1)"
   ]
  },
  {
   "cell_type": "markdown",
   "metadata": {},
   "source": [
    "ObserverType stratifies the evaluator by role."
   ]
  },
  {
   "cell_type": "code",
   "execution_count": 13,
   "metadata": {},
   "outputs": [
    {
     "data": {
      "text/html": [
       "<div>\n",
       "<style scoped>\n",
       "    .dataframe tbody tr th:only-of-type {\n",
       "        vertical-align: middle;\n",
       "    }\n",
       "\n",
       "    .dataframe tbody tr th {\n",
       "        vertical-align: top;\n",
       "    }\n",
       "\n",
       "    .dataframe thead tr th {\n",
       "        text-align: left;\n",
       "    }\n",
       "</style>\n",
       "<table border=\"1\" class=\"dataframe\">\n",
       "  <thead>\n",
       "    <tr>\n",
       "      <th></th>\n",
       "      <th colspan=\"2\" halign=\"left\">ObserverType</th>\n",
       "    </tr>\n",
       "    <tr>\n",
       "      <th></th>\n",
       "      <th>Count</th>\n",
       "      <th>Percent of Total</th>\n",
       "    </tr>\n",
       "  </thead>\n",
       "  <tbody>\n",
       "    <tr>\n",
       "      <th>clinical supervisor</th>\n",
       "      <td>1200</td>\n",
       "      <td>48.0</td>\n",
       "    </tr>\n",
       "    <tr>\n",
       "      <th>faculty</th>\n",
       "      <td>1165</td>\n",
       "      <td>46.6</td>\n",
       "    </tr>\n",
       "    <tr>\n",
       "      <th>resident</th>\n",
       "      <td>135</td>\n",
       "      <td>5.4</td>\n",
       "    </tr>\n",
       "  </tbody>\n",
       "</table>\n",
       "</div>"
      ],
      "text/plain": [
       "                    ObserverType                 \n",
       "                           Count Percent of Total\n",
       "clinical supervisor         1200             48.0\n",
       "faculty                     1165             46.6\n",
       "resident                     135              5.4"
      ]
     },
     "execution_count": 13,
     "metadata": {},
     "output_type": "execute_result"
    }
   ],
   "source": [
    "#| label: tbl-observertype\n",
    "#| tbl-cap: Evaluator Types\n",
    "pd.concat({\n",
    "    c : count_and_percent(df, c)\n",
    "    for c in ['ObserverType']\n",
    "}, axis=1)"
   ]
  },
  {
   "cell_type": "markdown",
   "metadata": {},
   "source": [
    "Only one of the two sites reports PGY levels for their trainees on their evaluations."
   ]
  },
  {
   "cell_type": "code",
   "execution_count": 14,
   "metadata": {},
   "outputs": [
    {
     "data": {
      "text/html": [
       "<div>\n",
       "<style scoped>\n",
       "    .dataframe tbody tr th:only-of-type {\n",
       "        vertical-align: middle;\n",
       "    }\n",
       "\n",
       "    .dataframe tbody tr th {\n",
       "        vertical-align: top;\n",
       "    }\n",
       "\n",
       "    .dataframe thead th {\n",
       "        text-align: right;\n",
       "    }\n",
       "</style>\n",
       "<table border=\"1\" class=\"dataframe\">\n",
       "  <thead>\n",
       "    <tr style=\"text-align: right;\">\n",
       "      <th></th>\n",
       "      <th>PGY</th>\n",
       "    </tr>\n",
       "  </thead>\n",
       "  <tbody>\n",
       "    <tr>\n",
       "      <th>Unknown</th>\n",
       "      <td>1251</td>\n",
       "    </tr>\n",
       "    <tr>\n",
       "      <th>2</th>\n",
       "      <td>510</td>\n",
       "    </tr>\n",
       "    <tr>\n",
       "      <th>1</th>\n",
       "      <td>456</td>\n",
       "    </tr>\n",
       "    <tr>\n",
       "      <th>3</th>\n",
       "      <td>157</td>\n",
       "    </tr>\n",
       "    <tr>\n",
       "      <th>4</th>\n",
       "      <td>117</td>\n",
       "    </tr>\n",
       "    <tr>\n",
       "      <th>5</th>\n",
       "      <td>9</td>\n",
       "    </tr>\n",
       "  </tbody>\n",
       "</table>\n",
       "</div>"
      ],
      "text/plain": [
       "          PGY\n",
       "Unknown  1251\n",
       "2         510\n",
       "1         456\n",
       "3         157\n",
       "4         117\n",
       "5           9"
      ]
     },
     "execution_count": 14,
     "metadata": {},
     "output_type": "execute_result"
    }
   ],
   "source": [
    "#| label: tbl-pgy\n",
    "#| tbl-cap: Reported PGY years of learners\n",
    "pd.DataFrame(df['PGY'].value_counts())"
   ]
  },
  {
   "cell_type": "markdown",
   "metadata": {},
   "source": [
    "## Model Performance\n",
    "### Metrics\n",
    "Models were assessed using the following performance metrics:\n",
    "\n",
    "* *Balanced Accuracy* - The weighted average of accuracies for each possible class (rating). In situations where the data is imbalanced, including this one, accuracy can be falsely inflated if the model over-biases against the rare classes. Balanced accuracy compensates for this and provides a more valid assessment of model performance in the real world. It is the most important metric evaluated.\n",
    "* *Accuracy* - The percentage of time the model made the correct guess about the rating\n",
    "* *Top 2 Accuracy* - The percentage of time the model's first guess **or** second guess was correct. Only applies to targets with $\\geq$ 3 levels (Q1 and overall QuAL)\n",
    "* *Top 3 Accuracy* - Same as above but includes first, second, or third guess.\n",
    "* *Mean absolute error (MAE)* - Average discrepancy between the model's guess and the true rating. Useful for Q1 and QuAL.\n",
    "* *ROC AUC Score* - Area under the receiver operating curve. Common metric reported in ML literature. Subject to inflation if classes are imbalanced. Only well-defined for two-class targets (Q2 and Q3).\n",
    "* *Precision* - Positive predictive value, the chance that a \"positive\" prediction (usually defined as the outcome of interest, in this case **lower** quality) is actually correct. Best defined for two-class targets, but averages can be taken for multi-class targets (Q1 and QuAL).\n",
    "* *Recall* - Sensitivity\n",
    "* *F1* - The geometric mean of precision and recall, often reported in the ML literature.\n",
    "* *Confusion Matrix* - A *n_classes* by *n_classes* matrix, where the $i,j$th entry is the number of items with true rating $i$ and predicted rating $j$. A perfect classifier would produce a confusion matrix non-zero only on the diagonal. The confusion matrix shows you which ratings the model is struggling with. \n",
    "* *Support* - Not a metric, *per se*, but the number of items in the test set which received the given rating.\n",
    "\n",
    "### Q1\n",
    "Q1 assessed the level of evidence about the learner's performance provided in the evaluation.\n",
    "Specifically, Q1 asked, \"Does the rater provide sufficient evidence about resident performance?\" It was rated on a three-point scale: 0-no comment at all, 1-no, but comment present, 2-somewhat, 3-yes/full description."
   ]
  },
  {
   "cell_type": "code",
   "execution_count": 15,
   "metadata": {},
   "outputs": [],
   "source": [
    "def get_metrics(run_id: str):\n",
    "    run = mlflow.get_run(run_id)\n",
    "    mets = run.data.metrics\n",
    "    return pd.DataFrame(pd.Series(mets)).rename({0:'Score'}, axis=1)\n",
    "\n",
    "def get_cm_from_mets(mets: pd.DataFrame, n_classes: int):\n",
    "    cm = np.zeros((n_classes, n_classes))\n",
    "    for i in range(n_classes):\n",
    "        for j in range(n_classes):\n",
    "            cm[i,j] = mets.loc[f'cm_{i}_{j}', 'Score']\n",
    "    return cm"
   ]
  },
  {
   "cell_type": "code",
   "execution_count": 16,
   "metadata": {},
   "outputs": [],
   "source": [
    "RUN_ID = 'abfc70ff15504cf5993250071cfb566e'\n",
    "mets = get_metrics(RUN_ID)\n",
    "cm = get_cm_from_mets(mets, 4)"
   ]
  },
  {
   "cell_type": "markdown",
   "metadata": {},
   "source": [
    "The table below shows the model performance metrics for Q1."
   ]
  },
  {
   "cell_type": "code",
   "execution_count": 17,
   "metadata": {},
   "outputs": [
    {
     "data": {
      "text/html": [
       "<div>\n",
       "<style scoped>\n",
       "    .dataframe tbody tr th:only-of-type {\n",
       "        vertical-align: middle;\n",
       "    }\n",
       "\n",
       "    .dataframe tbody tr th {\n",
       "        vertical-align: top;\n",
       "    }\n",
       "\n",
       "    .dataframe thead th {\n",
       "        text-align: right;\n",
       "    }\n",
       "</style>\n",
       "<table border=\"1\" class=\"dataframe\">\n",
       "  <thead>\n",
       "    <tr style=\"text-align: right;\">\n",
       "      <th></th>\n",
       "      <th>Score</th>\n",
       "    </tr>\n",
       "  </thead>\n",
       "  <tbody>\n",
       "    <tr>\n",
       "      <th>balanced_accuracy</th>\n",
       "      <td>0.590736</td>\n",
       "    </tr>\n",
       "    <tr>\n",
       "      <th>accuracy</th>\n",
       "      <td>0.624000</td>\n",
       "    </tr>\n",
       "    <tr>\n",
       "      <th>top_2_acc</th>\n",
       "      <td>0.880000</td>\n",
       "    </tr>\n",
       "    <tr>\n",
       "      <th>top_3_acc</th>\n",
       "      <td>0.973333</td>\n",
       "    </tr>\n",
       "    <tr>\n",
       "      <th>precision</th>\n",
       "      <td>0.620417</td>\n",
       "    </tr>\n",
       "    <tr>\n",
       "      <th>recall</th>\n",
       "      <td>0.590736</td>\n",
       "    </tr>\n",
       "    <tr>\n",
       "      <th>f1</th>\n",
       "      <td>0.598159</td>\n",
       "    </tr>\n",
       "  </tbody>\n",
       "</table>\n",
       "</div>"
      ],
      "text/plain": [
       "                      Score\n",
       "balanced_accuracy  0.590736\n",
       "accuracy           0.624000\n",
       "top_2_acc          0.880000\n",
       "top_3_acc          0.973333\n",
       "precision          0.620417\n",
       "recall             0.590736\n",
       "f1                 0.598159"
      ]
     },
     "execution_count": 17,
     "metadata": {},
     "output_type": "execute_result"
    }
   ],
   "source": [
    "#| label: tbl-q1metrics\n",
    "#| tbl-cap: Q1 Metrics\n",
    "moi = ['balanced_accuracy','accuracy','top_2_acc','top_3_acc','precision','recall','f1']\n",
    "mets.loc[moi,:]"
   ]
  },
  {
   "cell_type": "markdown",
   "metadata": {},
   "source": [
    "Overall, model performance for Q1 is relatively weak when considered from an absolute accuracy standpoint, getting on average 59% of predictions correct. However, as Q1 has four possible ratings (0-3), random guessing would be correct only 25% of the time, so our model performs 2.36 times better than random. Looking at the Top 2 Accuracy, we see the model contains the true rating within its top-2 predictions 88% of the time, which further demonstrates that the model is \"on the right track.\" \n",
    "\n",
    "Exploring performance by class level and visualizing the confusion matrix, we can begin to see the reasons for high/low performance:"
   ]
  },
  {
   "cell_type": "code",
   "execution_count": 18,
   "metadata": {},
   "outputs": [
    {
     "data": {
      "text/html": [
       "<div>\n",
       "<style scoped>\n",
       "    .dataframe tbody tr th:only-of-type {\n",
       "        vertical-align: middle;\n",
       "    }\n",
       "\n",
       "    .dataframe tbody tr th {\n",
       "        vertical-align: top;\n",
       "    }\n",
       "\n",
       "    .dataframe thead th {\n",
       "        text-align: right;\n",
       "    }\n",
       "</style>\n",
       "<table border=\"1\" class=\"dataframe\">\n",
       "  <thead>\n",
       "    <tr style=\"text-align: right;\">\n",
       "      <th></th>\n",
       "      <th>F1 Score</th>\n",
       "      <th>Support</th>\n",
       "    </tr>\n",
       "    <tr>\n",
       "      <th>Q1 Rating</th>\n",
       "      <th></th>\n",
       "      <th></th>\n",
       "    </tr>\n",
       "  </thead>\n",
       "  <tbody>\n",
       "    <tr>\n",
       "      <th>0</th>\n",
       "      <td>0.727273</td>\n",
       "      <td>25.0</td>\n",
       "    </tr>\n",
       "    <tr>\n",
       "      <th>1</th>\n",
       "      <td>0.400000</td>\n",
       "      <td>49.0</td>\n",
       "    </tr>\n",
       "    <tr>\n",
       "      <th>2</th>\n",
       "      <td>0.500000</td>\n",
       "      <td>113.0</td>\n",
       "    </tr>\n",
       "    <tr>\n",
       "      <th>3</th>\n",
       "      <td>0.765363</td>\n",
       "      <td>188.0</td>\n",
       "    </tr>\n",
       "  </tbody>\n",
       "</table>\n",
       "</div>"
      ],
      "text/plain": [
       "           F1 Score  Support\n",
       "Q1 Rating                   \n",
       "0          0.727273     25.0\n",
       "1          0.400000     49.0\n",
       "2          0.500000    113.0\n",
       "3          0.765363    188.0"
      ]
     },
     "execution_count": 18,
     "metadata": {},
     "output_type": "execute_result"
    }
   ],
   "source": [
    "#| label: tbl-q1byrating\n",
    "#| tbl-cap: Q1 Performance by Rating\n",
    "RUN_ID = 'abfc70ff15504cf5993250071cfb566e'\n",
    "moi = ['f1_0','f1_1','f1_2','f1_3']\n",
    "pd.concat([\n",
    "    mets.loc[moi,:].reset_index().rename({'Score':'F1 Score'}, axis=1),\n",
    "    mets.loc[['supp_0','supp_1','supp_2','supp_3'], :].reset_index().rename({'Score':'Support'}, axis=1)\n",
    "], axis=1).drop(['index'], axis=1).rename_axis('Q1 Rating', axis='rows')"
   ]
  },
  {
   "cell_type": "code",
   "execution_count": 19,
   "metadata": {},
   "outputs": [
    {
     "data": {
      "image/png": "[encoded data removed]",
      "text/plain": [
       "<Figure size 432x288 with 2 Axes>"
      ]
     },
     "metadata": {
      "needs_background": "light"
     },
     "output_type": "display_data"
    }
   ],
   "source": [
    "#| fig-cap: Q1 Confusion Matrix\n",
    "#| label: fig-q1conf\n",
    "from sklearn import metrics\n",
    "cmdisp = metrics.ConfusionMatrixDisplay(cm)\n",
    "_ = cmdisp.plot()"
   ]
  },
  {
   "cell_type": "markdown",
   "metadata": {},
   "source": [
    "The model performs best at the extremes, the Q1 = 0 and Q1 = 3 ratings perform well, but when Q1 = 1 and Q1 = 2, the model has trouble differentiating the \"nuances\" at this level. This is to be expected, as the human raters struggled to differentiate between these levels as well. The table below shows the percent of human rater agreement for Q1 stratified by Q1 rating:"
   ]
  },
  {
   "cell_type": "code",
   "execution_count": 20,
   "metadata": {},
   "outputs": [
    {
     "data": {
      "text/html": [
       "<div>\n",
       "<style scoped>\n",
       "    .dataframe tbody tr th:only-of-type {\n",
       "        vertical-align: middle;\n",
       "    }\n",
       "\n",
       "    .dataframe tbody tr th {\n",
       "        vertical-align: top;\n",
       "    }\n",
       "\n",
       "    .dataframe thead th {\n",
       "        text-align: right;\n",
       "    }\n",
       "</style>\n",
       "<table border=\"1\" class=\"dataframe\">\n",
       "  <thead>\n",
       "    <tr style=\"text-align: right;\">\n",
       "      <th></th>\n",
       "      <th>Percent Human Match</th>\n",
       "    </tr>\n",
       "    <tr>\n",
       "      <th>Q1</th>\n",
       "      <th></th>\n",
       "    </tr>\n",
       "  </thead>\n",
       "  <tbody>\n",
       "    <tr>\n",
       "      <th>0</th>\n",
       "      <td>97.142857</td>\n",
       "    </tr>\n",
       "    <tr>\n",
       "      <th>1</th>\n",
       "      <td>84.679666</td>\n",
       "    </tr>\n",
       "    <tr>\n",
       "      <th>2</th>\n",
       "      <td>40.439276</td>\n",
       "    </tr>\n",
       "    <tr>\n",
       "      <th>3</th>\n",
       "      <td>57.210777</td>\n",
       "    </tr>\n",
       "  </tbody>\n",
       "</table>\n",
       "</div>"
      ],
      "text/plain": [
       "    Percent Human Match\n",
       "Q1                     \n",
       "0             97.142857\n",
       "1             84.679666\n",
       "2             40.439276\n",
       "3             57.210777"
      ]
     },
     "execution_count": 20,
     "metadata": {},
     "output_type": "execute_result"
    }
   ],
   "source": [
    "#| label: tbl-q1humanmatch\n",
    "#| tbl-cap: Percent Human Match by Q1 Rating\n",
    "blah = df[['q1p1','q1p2','Q1']].copy()\n",
    "blah['Percent Human Match'] = (blah['q1p1'] == blah['q1p2'])\n",
    "pd.DataFrame(blah.groupby('Q1')['Percent Human Match'].mean()*100)"
   ]
  },
  {
   "cell_type": "markdown",
   "metadata": {},
   "source": [
    "### Q2\n",
    "Q2 assessed whether or not the evaluator provided a suggestion for improvement in the written evaluation. It asked, \"Does the rater provide a suggestion for improvement? (0-no/1-yes)\""
   ]
  },
  {
   "cell_type": "markdown",
   "metadata": {},
   "source": [
    ":::{.callout-note}\n",
    "Because it is more important to identify low-quality feedback, when the model was trained, the ratings were inverted. That is, the \"positive\" (thing that needed to be identified) was switched to Q2 = **0**. \n",
    ":::"
   ]
  },
  {
   "cell_type": "code",
   "execution_count": 21,
   "metadata": {},
   "outputs": [],
   "source": [
    "RUN_ID = '9feba93902bc44e0a08388f49fad81cf'\n",
    "mets = get_metrics(RUN_ID)\n",
    "# cm = get_cm_from_mets(mets, 2)"
   ]
  },
  {
   "cell_type": "markdown",
   "metadata": {},
   "source": [
    "The table below shows the model performance metrics for Q3."
   ]
  },
  {
   "cell_type": "code",
   "execution_count": 22,
   "metadata": {},
   "outputs": [
    {
     "data": {
      "text/html": [
       "<div>\n",
       "<style scoped>\n",
       "    .dataframe tbody tr th:only-of-type {\n",
       "        vertical-align: middle;\n",
       "    }\n",
       "\n",
       "    .dataframe tbody tr th {\n",
       "        vertical-align: top;\n",
       "    }\n",
       "\n",
       "    .dataframe thead th {\n",
       "        text-align: right;\n",
       "    }\n",
       "</style>\n",
       "<table border=\"1\" class=\"dataframe\">\n",
       "  <thead>\n",
       "    <tr style=\"text-align: right;\">\n",
       "      <th></th>\n",
       "      <th>Score</th>\n",
       "    </tr>\n",
       "  </thead>\n",
       "  <tbody>\n",
       "    <tr>\n",
       "      <th>balanced_accuracy</th>\n",
       "      <td>0.775220</td>\n",
       "    </tr>\n",
       "    <tr>\n",
       "      <th>accuracy</th>\n",
       "      <td>0.834667</td>\n",
       "    </tr>\n",
       "    <tr>\n",
       "      <th>precision</th>\n",
       "      <td>0.923611</td>\n",
       "    </tr>\n",
       "    <tr>\n",
       "      <th>recall</th>\n",
       "      <td>0.869281</td>\n",
       "    </tr>\n",
       "    <tr>\n",
       "      <th>f1</th>\n",
       "      <td>0.895623</td>\n",
       "    </tr>\n",
       "  </tbody>\n",
       "</table>\n",
       "</div>"
      ],
      "text/plain": [
       "                      Score\n",
       "balanced_accuracy  0.775220\n",
       "accuracy           0.834667\n",
       "precision          0.923611\n",
       "recall             0.869281\n",
       "f1                 0.895623"
      ]
     },
     "execution_count": 22,
     "metadata": {},
     "output_type": "execute_result"
    }
   ],
   "source": [
    "#| label: tbl-q2metrics\n",
    "#| tbl-cap: Q2 Metrics\n",
    "moi = ['balanced_accuracy','accuracy','precision','recall','f1']\n",
    "mets.loc[moi,:]"
   ]
  },
  {
   "cell_type": "markdown",
   "metadata": {},
   "source": [
    "Q2 was the highest performing model, as it represented the simplest question - simply, was there a suggestion or not. It was better at predicting if there was *not* a suggestion. It had 92% sensitivity detecting failure to provide a suggestion, with a PPV of 86.9%. "
   ]
  },
  {
   "cell_type": "markdown",
   "metadata": {},
   "source": [
    "### Q3\n",
    "Q3 assessed if the evalutor connected the learner's behavior with the suggestion for improvement. Specifically, it asked, \"Is the rater’s suggestion linked to the behavior described? (0-no/1-yes)\""
   ]
  },
  {
   "cell_type": "markdown",
   "metadata": {},
   "source": [
    ":::{.callout-note}\n",
    "Because it is more important to identify low-quality feedback, when the model was trained, the ratings were inverted. That is, the \"positive\" (thing that needed to be identified) was switched to Q3 = **0**. \n",
    ":::"
   ]
  },
  {
   "cell_type": "code",
   "execution_count": 23,
   "metadata": {},
   "outputs": [],
   "source": [
    "RUN_ID = 'cfc47b4c998c4cc8b3aa287d7cd762ee'\n",
    "mets = get_metrics(RUN_ID)\n",
    "# cm = get_cm_from_mets(mets, 2)"
   ]
  },
  {
   "cell_type": "markdown",
   "metadata": {},
   "source": [
    "The table below shows the model performance metrics for Q3."
   ]
  },
  {
   "cell_type": "code",
   "execution_count": 24,
   "metadata": {},
   "outputs": [
    {
     "data": {
      "text/html": [
       "<div>\n",
       "<style scoped>\n",
       "    .dataframe tbody tr th:only-of-type {\n",
       "        vertical-align: middle;\n",
       "    }\n",
       "\n",
       "    .dataframe tbody tr th {\n",
       "        vertical-align: top;\n",
       "    }\n",
       "\n",
       "    .dataframe thead th {\n",
       "        text-align: right;\n",
       "    }\n",
       "</style>\n",
       "<table border=\"1\" class=\"dataframe\">\n",
       "  <thead>\n",
       "    <tr style=\"text-align: right;\">\n",
       "      <th></th>\n",
       "      <th>Score</th>\n",
       "    </tr>\n",
       "  </thead>\n",
       "  <tbody>\n",
       "    <tr>\n",
       "      <th>balanced_accuracy</th>\n",
       "      <td>0.764813</td>\n",
       "    </tr>\n",
       "    <tr>\n",
       "      <th>accuracy</th>\n",
       "      <td>0.845333</td>\n",
       "    </tr>\n",
       "    <tr>\n",
       "      <th>precision</th>\n",
       "      <td>0.933333</td>\n",
       "    </tr>\n",
       "    <tr>\n",
       "      <th>recall</th>\n",
       "      <td>0.880503</td>\n",
       "    </tr>\n",
       "    <tr>\n",
       "      <th>f1</th>\n",
       "      <td>0.906149</td>\n",
       "    </tr>\n",
       "  </tbody>\n",
       "</table>\n",
       "</div>"
      ],
      "text/plain": [
       "                      Score\n",
       "balanced_accuracy  0.764813\n",
       "accuracy           0.845333\n",
       "precision          0.933333\n",
       "recall             0.880503\n",
       "f1                 0.906149"
      ]
     },
     "execution_count": 24,
     "metadata": {},
     "output_type": "execute_result"
    }
   ],
   "source": [
    "#| label: tbl-q3metrics\n",
    "#| tbl-cap: Q3 Metrics\n",
    "moi = ['balanced_accuracy','accuracy','precision','recall','f1']\n",
    "mets.loc[moi,:]"
   ]
  },
  {
   "cell_type": "markdown",
   "metadata": {},
   "source": [
    "Q3 performed as well or better than Q2. It had a 93% sensitivity for failure to connect action to suggestion and a PPV of 88%. Q2 and Q3 are nearly redundant (discrepant only 3% of the time), as show in @tbl-qualcounts, so it makes sense that Q3 is a high-performer."
   ]
  },
  {
   "cell_type": "markdown",
   "metadata": {},
   "source": [
    "### QuAL"
   ]
  },
  {
   "cell_type": "code",
   "execution_count": 26,
   "metadata": {},
   "outputs": [],
   "source": [
    "RUN_ID = 'db6d3cd5af1b403cafb949d1d752fa58'\n",
    "mets = get_metrics(RUN_ID)\n",
    "cm = get_cm_from_mets(mets, 6)"
   ]
  },
  {
   "cell_type": "markdown",
   "metadata": {},
   "source": [
    "The table below shows the model performance metrics for the overall QuAL score."
   ]
  },
  {
   "cell_type": "code",
   "execution_count": 31,
   "metadata": {},
   "outputs": [
    {
     "data": {
      "text/html": [
       "<div>\n",
       "<style scoped>\n",
       "    .dataframe tbody tr th:only-of-type {\n",
       "        vertical-align: middle;\n",
       "    }\n",
       "\n",
       "    .dataframe tbody tr th {\n",
       "        vertical-align: top;\n",
       "    }\n",
       "\n",
       "    .dataframe thead th {\n",
       "        text-align: right;\n",
       "    }\n",
       "</style>\n",
       "<table border=\"1\" class=\"dataframe\">\n",
       "  <thead>\n",
       "    <tr style=\"text-align: right;\">\n",
       "      <th></th>\n",
       "      <th>Score</th>\n",
       "    </tr>\n",
       "  </thead>\n",
       "  <tbody>\n",
       "    <tr>\n",
       "      <th>balanced_accuracy</th>\n",
       "      <td>0.438582</td>\n",
       "    </tr>\n",
       "    <tr>\n",
       "      <th>accuracy</th>\n",
       "      <td>0.469333</td>\n",
       "    </tr>\n",
       "    <tr>\n",
       "      <th>top_2_acc</th>\n",
       "      <td>0.749333</td>\n",
       "    </tr>\n",
       "    <tr>\n",
       "      <th>top_3_acc</th>\n",
       "      <td>0.890667</td>\n",
       "    </tr>\n",
       "    <tr>\n",
       "      <th>mae</th>\n",
       "      <td>0.722667</td>\n",
       "    </tr>\n",
       "    <tr>\n",
       "      <th>precision</th>\n",
       "      <td>0.439958</td>\n",
       "    </tr>\n",
       "    <tr>\n",
       "      <th>recall</th>\n",
       "      <td>0.438582</td>\n",
       "    </tr>\n",
       "    <tr>\n",
       "      <th>f1</th>\n",
       "      <td>0.435110</td>\n",
       "    </tr>\n",
       "  </tbody>\n",
       "</table>\n",
       "</div>"
      ],
      "text/plain": [
       "                      Score\n",
       "balanced_accuracy  0.438582\n",
       "accuracy           0.469333\n",
       "top_2_acc          0.749333\n",
       "top_3_acc          0.890667\n",
       "mae                0.722667\n",
       "precision          0.439958\n",
       "recall             0.438582\n",
       "f1                 0.435110"
      ]
     },
     "execution_count": 31,
     "metadata": {},
     "output_type": "execute_result"
    }
   ],
   "source": [
    "#| label: tbl-qualmetrics\n",
    "#| tbl-cap: QuAL Metrics\n",
    "moi = ['balanced_accuracy','accuracy','top_2_acc','top_3_acc','mae','precision','recall','f1']\n",
    "mets.loc[moi,:]"
   ]
  },
  {
   "cell_type": "markdown",
   "metadata": {},
   "source": [
    "Overall, ***\n",
    "\n",
    "Exploring performance by class level and visualizing the confusion matrix, we can begin to see the reasons for high/low performance:"
   ]
  },
  {
   "cell_type": "code",
   "execution_count": 33,
   "metadata": {},
   "outputs": [
    {
     "data": {
      "text/html": [
       "<div>\n",
       "<style scoped>\n",
       "    .dataframe tbody tr th:only-of-type {\n",
       "        vertical-align: middle;\n",
       "    }\n",
       "\n",
       "    .dataframe tbody tr th {\n",
       "        vertical-align: top;\n",
       "    }\n",
       "\n",
       "    .dataframe thead th {\n",
       "        text-align: right;\n",
       "    }\n",
       "</style>\n",
       "<table border=\"1\" class=\"dataframe\">\n",
       "  <thead>\n",
       "    <tr style=\"text-align: right;\">\n",
       "      <th></th>\n",
       "      <th>F1 Score</th>\n",
       "      <th>Support</th>\n",
       "    </tr>\n",
       "    <tr>\n",
       "      <th>QuAL Rating</th>\n",
       "      <th></th>\n",
       "      <th></th>\n",
       "    </tr>\n",
       "  </thead>\n",
       "  <tbody>\n",
       "    <tr>\n",
       "      <th>0</th>\n",
       "      <td>0.711111</td>\n",
       "      <td>24.0</td>\n",
       "    </tr>\n",
       "    <tr>\n",
       "      <th>1</th>\n",
       "      <td>0.336449</td>\n",
       "      <td>46.0</td>\n",
       "    </tr>\n",
       "    <tr>\n",
       "      <th>2</th>\n",
       "      <td>0.336735</td>\n",
       "      <td>99.0</td>\n",
       "    </tr>\n",
       "    <tr>\n",
       "      <th>3</th>\n",
       "      <td>0.577617</td>\n",
       "      <td>150.0</td>\n",
       "    </tr>\n",
       "    <tr>\n",
       "      <th>4</th>\n",
       "      <td>0.071429</td>\n",
       "      <td>9.0</td>\n",
       "    </tr>\n",
       "    <tr>\n",
       "      <th>5</th>\n",
       "      <td>0.577320</td>\n",
       "      <td>47.0</td>\n",
       "    </tr>\n",
       "  </tbody>\n",
       "</table>\n",
       "</div>"
      ],
      "text/plain": [
       "             F1 Score  Support\n",
       "QuAL Rating                   \n",
       "0            0.711111     24.0\n",
       "1            0.336449     46.0\n",
       "2            0.336735     99.0\n",
       "3            0.577617    150.0\n",
       "4            0.071429      9.0\n",
       "5            0.577320     47.0"
      ]
     },
     "execution_count": 33,
     "metadata": {},
     "output_type": "execute_result"
    }
   ],
   "source": [
    "#| label: tbl-qualbyrating\n",
    "#| tbl-cap: QuAL Performance by Rating Level\n",
    "moi = ['f1_0','f1_1','f1_2','f1_3','f1_4','f1_5']\n",
    "pd.concat([\n",
    "    mets.loc[moi,:].reset_index().rename({'Score':'F1 Score'}, axis=1),\n",
    "    mets.loc[['supp_0','supp_1','supp_2','supp_3','supp_4','supp_5'], :].reset_index().rename({'Score':'Support'}, axis=1)\n",
    "], axis=1).drop(['index'], axis=1).rename_axis('QuAL Rating', axis='rows')"
   ]
  },
  {
   "cell_type": "code",
   "execution_count": 35,
   "metadata": {},
   "outputs": [
    {
     "data": {
      "image/png": "[encoded data removed]",
      "text/plain": [
       "<Figure size 432x288 with 2 Axes>"
      ]
     },
     "metadata": {
      "needs_background": "light"
     },
     "output_type": "display_data"
    }
   ],
   "source": [
    "#| fig-cap: QuAL Confusion Matrix\n",
    "#| label: fig-qualconf\n",
    "from sklearn import metrics\n",
    "cmdisp = metrics.ConfusionMatrixDisplay(cm)\n",
    "_ = cmdisp.plot()"
   ]
  },
  {
   "cell_type": "code",
   "execution_count": null,
   "metadata": {},
   "outputs": [],
   "source": []
  }
 ],
 "metadata": {
  "kernelspec": {
   "display_name": "Python 3.9.13 ('nlp-qual-max')",
   "language": "python",
   "name": "python3"
  },
  "language_info": {
   "codemirror_mode": {
    "name": "ipython",
    "version": 3
   },
   "file_extension": ".py",
   "mimetype": "text/x-python",
   "name": "python",
   "nbconvert_exporter": "python",
   "pygments_lexer": "ipython3",
   "version": "3.9.13"
  },
  "orig_nbformat": 4,
  "vscode": {
   "interpreter": {
    "hash": "579415fc3ec176207406cd1a93e81fe4e9f4037bcae6d6d1085947c86be97477"
   }
  }
 },
 "nbformat": 4,
 "nbformat_minor": 2
}
