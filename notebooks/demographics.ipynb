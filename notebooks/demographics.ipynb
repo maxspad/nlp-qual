{
 "cells": [
  {
   "cell_type": "code",
   "execution_count": 8,
   "metadata": {},
   "outputs": [],
   "source": [
    "import pandas as pd\n",
    "import numpy as np\n",
    "from scipy.stats import ttest_ind, binomtest, chi2_contingency"
   ]
  },
  {
   "cell_type": "code",
   "execution_count": 21,
   "metadata": {},
   "outputs": [],
   "source": [
    "df = pd.read_excel('../data/interim/masterdbForNLP.xlsx')\n",
    "df = df.replace('Unknown', np.nan)\n",
    "df.loc[:, 'EPA'] = df['EPA'].str[0].str.upper().replace('D',np.nan)\n",
    "df.loc[:, 'Type'] = df['Type']\n",
    "# df.loc[:, 'PGY'] = df['PGY'].replace({'Unknown': np.nan})"
   ]
  },
  {
   "cell_type": "code",
   "execution_count": 22,
   "metadata": {},
   "outputs": [
    {
     "data": {
      "text/plain": [
       "Index(['Unnamed: 0', 'Survey N', 'Question N', 'commentId', 'dataSource',\n",
       "       'NumberFromRawData', 'comment', 'rating', 'q1p1', 'q1p2', 'q2p1',\n",
       "       'q2p2', 'q3p1', 'q3p2', 'q1p1T', 'q1p2T', 'q2p1T', 'q2p2T', 'q3p1T',\n",
       "       'q3p2T', 'P1QualScore', 'P2QualScore', 'Q1Match', 'Q2Match', 'Q3Match',\n",
       "       'perfectMatch', 'RobMacCommentModified', 'RobMacQ1', 'RobMacQ2',\n",
       "       'RobMacQ3', 'RobMacQualScore', 'Q1', 'Q2', 'Q3', 'QUAL', 'GenderRes',\n",
       "       'GenderFac', 'Type', 'ObserverType', 'EPA', 'PGY', 'Q1c', 'Q2i', 'Q3i',\n",
       "       'QUALc'],\n",
       "      dtype='object')"
      ]
     },
     "execution_count": 22,
     "metadata": {},
     "output_type": "execute_result"
    }
   ],
   "source": [
    "df.columns"
   ]
  },
  {
   "cell_type": "code",
   "execution_count": 23,
   "metadata": {},
   "outputs": [],
   "source": [
    "def get_table(col : str, gb='dataSource', func='value_counts', func_args : dict={'normalize':True}, rename='Frequency') -> pd.DataFrame:\n",
    "    res = pd.DataFrame(df.groupby(gb)[col].agg(func, **func_args))\n",
    "    if rename is not None:\n",
    "        res = res.rename({col:rename}, axis=1)\n",
    "    res = res.reset_index().pivot(index=col, columns=gb)\n",
    "    return res"
   ]
  },
  {
   "cell_type": "code",
   "execution_count": 24,
   "metadata": {},
   "outputs": [
    {
     "name": "stdout",
     "output_type": "stream",
     "text": [
      "rating\n",
      "           Frequency     \n",
      "dataSource       Mac  Sas\n",
      "rating                   \n",
      "1.0                2    2\n",
      "2.0               15   32\n",
      "3.0              110  186\n",
      "4.0              509  431\n",
      "5.0              612  599\n",
      "PVal 1.6825871016678218e-06\n",
      "\n",
      "QUAL\n",
      "           Frequency     \n",
      "dataSource       Mac  Sas\n",
      "QUAL                     \n",
      "0                 91    9\n",
      "1                228  110\n",
      "2                404  281\n",
      "3                434  523\n",
      "4                 34   43\n",
      "5                 59  284\n",
      "PVal 5.003638371971221e-60\n",
      "\n",
      "GenderRes\n",
      "           Frequency     \n",
      "dataSource       Mac  Sas\n",
      "GenderRes                \n",
      "Female           740  297\n",
      "Male             510  953\n",
      "PVal 5.501826327438153e-72\n",
      "\n",
      "GenderFac\n",
      "           Frequency     \n",
      "dataSource       Mac  Sas\n",
      "GenderFac                \n",
      "Female           487  390\n",
      "Male             748  699\n",
      "PVal 0.07944161932344407\n",
      "\n",
      "Type\n",
      "                                                   Frequency      \n",
      "dataSource                                               Mac   Sas\n",
      "Type                                                              \n",
      "ARCH                                                     NaN   1.0\n",
      "Addictions Medicine                                      NaN   1.0\n",
      "Adolescent Medicine - eating disorders and addi...       NaN   1.0\n",
      "Anaesthesia                                              NaN  20.0\n",
      "CAMH                                                     NaN   1.0\n",
      "CCU                                                      NaN   5.0\n",
      "Cardiology                                               NaN  10.0\n",
      "EM                                                     951.0  53.0\n",
      "EMS Edmonton                                             NaN   1.0\n",
      "EMS/ER                                                   NaN   1.0\n",
      "GIM                                                      NaN   3.0\n",
      "Gen Surg                                                 NaN   5.0\n",
      "ICU                                                      NaN  11.0\n",
      "ICU (Regina)                                             NaN   3.0\n",
      "ID                                                       NaN   1.0\n",
      "Neurology                                                NaN   5.0\n",
      "Obs Gyn                                                  NaN  16.0\n",
      "Off Service                                            130.0  31.0\n",
      "Ophtho                                                   NaN   3.0\n",
      "Ortho                                                    NaN  10.0\n",
      "PEM                                                    169.0   3.0\n",
      "PICU                                                     NaN   3.0\n",
      "Plastics                                                 NaN  11.0\n",
      "Psych                                                    NaN   5.0\n",
      "Trauma                                                   NaN   1.0\n",
      "PVal nan\n",
      "\n",
      "ObserverType\n",
      "                    Frequency        \n",
      "dataSource                Mac     Sas\n",
      "ObserverType                         \n",
      "clinical supervisor       NaN  1200.0\n",
      "faculty                1165.0     NaN\n",
      "resident                 85.0    50.0\n",
      "PVal nan\n",
      "\n",
      "EPA\n",
      "           Frequency     \n",
      "dataSource       Mac  Sas\n",
      "EPA                      \n",
      "C                789  850\n",
      "F                294  236\n",
      "T                166  164\n",
      "PVal 0.01337203754513292\n",
      "\n",
      "PGY\n",
      "           Frequency\n",
      "dataSource       Mac\n",
      "PGY                 \n",
      "1.0              456\n",
      "2.0              510\n",
      "3.0              157\n",
      "4.0              117\n",
      "5.0                9\n",
      "PVal 1.0\n",
      "\n"
     ]
    }
   ],
   "source": [
    "cols_to_compare = ['rating','QUAL','GenderRes','GenderFac','Type','ObserverType','EPA','PGY']\n",
    "for c in cols_to_compare:\n",
    "    print(c)\n",
    "    tbl = get_table(c, func_args={'normalize':False})\n",
    "    print(tbl)\n",
    "    _, p, _, _ = chi2_contingency(tbl)\n",
    "    print('PVal', p)\n",
    "    print()"
   ]
  },
  {
   "cell_type": "code",
   "execution_count": 8,
   "metadata": {},
   "outputs": [
    {
     "name": "stdout",
     "output_type": "stream",
     "text": [
      "rating\n",
      "dataSource\n",
      "Mac    4.373397\n",
      "Sas    4.274400\n",
      "Name: rating, dtype: float64\n",
      "PVal 0.0012473072643488876\n",
      "\n",
      "QUAL\n",
      "dataSource\n",
      "Mac    2.2152\n",
      "Sas    3.0664\n",
      "Name: QUAL, dtype: float64\n",
      "PVal 3.860445378176051e-66\n",
      "\n",
      "PGY\n",
      "dataSource\n",
      "Mac    1.969576\n",
      "Sas         NaN\n",
      "Name: PGY, dtype: float64\n",
      "PVal --\n",
      "\n"
     ]
    },
    {
     "name": "stderr",
     "output_type": "stream",
     "text": [
      "/home/maxspad/mambaforge/envs/nlp-qual-max/lib/python3.9/site-packages/scipy/stats/_mstats_basic.py:1279: RuntimeWarning: divide by zero encountered in true_divide\n",
      "  denom = ma.sqrt(svar*(1.0/n1 + 1.0/n2))  # n-D computation here!\n"
     ]
    }
   ],
   "source": [
    "cols_to_compare_quant = ['rating','QUAL','PGY']\n",
    "for c in cols_to_compare_quant:\n",
    "    print(c)\n",
    "    print(df.groupby('dataSource')[c].mean())\n",
    "    _, pval = ttest_ind(df.loc[df['dataSource'] == 'Mac', c], df.loc[df['dataSource'] == 'Sas', c], \n",
    "                        alternative='two-sided', nan_policy='omit')\n",
    "    print('PVal', pval)\n",
    "    print()"
   ]
  },
  {
   "cell_type": "code",
   "execution_count": null,
   "metadata": {},
   "outputs": [],
   "source": [
    "for c in cols_to_compare_quant"
   ]
  }
 ],
 "metadata": {
  "kernelspec": {
   "display_name": "nlp-qual-max",
   "language": "python",
   "name": "python3"
  },
  "language_info": {
   "codemirror_mode": {
    "name": "ipython",
    "version": 3
   },
   "file_extension": ".py",
   "mimetype": "text/x-python",
   "name": "python",
   "nbconvert_exporter": "python",
   "pygments_lexer": "ipython3",
   "version": "3.9.15"
  },
  "orig_nbformat": 4
 },
 "nbformat": 4,
 "nbformat_minor": 2
}
