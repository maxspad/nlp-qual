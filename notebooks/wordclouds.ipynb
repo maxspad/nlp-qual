{
 "cells": [
  {
   "cell_type": "code",
   "execution_count": 1,
   "metadata": {},
   "outputs": [
    {
     "name": "stderr",
     "output_type": "stream",
     "text": [
      "/home/maxspad/mambaforge/envs/nlp-qual-max/lib/python3.9/site-packages/tqdm/auto.py:21: TqdmWarning: IProgress not found. Please update jupyter and ipywidgets. See https://ipywidgets.readthedocs.io/en/stable/user_install.html\n",
      "  from .autonotebook import tqdm as notebook_tqdm\n"
     ]
    }
   ],
   "source": [
    "import transformers as tf\n",
    "import pandas as pd\n",
    "import numpy as np\n",
    "from tqdm import tqdm\n",
    "from transformers_interpret import SequenceClassificationExplainer"
   ]
  },
  {
   "cell_type": "code",
   "execution_count": 2,
   "metadata": {},
   "outputs": [],
   "source": [
    "def load_model_pipeline(username, prefix, model_name):\n",
    "    p = tf.pipeline('text-classification', f'{username}/{prefix}-{model_name}', return_all_scores=True, device='cuda')\n",
    "    return p\n",
    "\n",
    "def load_data(data_folder):\n",
    "    df_train = pd.read_pickle(f'{data_folder}/processed/train.pkl')\n",
    "    df_test = pd.read_pickle(f'{data_folder}/processed/test.pkl')\n",
    "    df = pd.concat([df_train, df_test])\n",
    "    return df\n",
    "\n",
    "def clean_data(df : pd.DataFrame, p : tf.Pipeline, na_repl='blank', max_tokens=225):\n",
    "    print(f'Original df size: {df.shape}')\n",
    "\n",
    "    print(f'Filling NAN in comment with \"{na_repl}\"')\n",
    "    df['comment'] = df.comment.fillna(na_repl)\n",
    "\n",
    "    df['tf_toklen'] = [len(toks) for toks in p.tokenizer(df.comment.tolist())['input_ids']]\n",
    "    df = df[df['tf_toklen'] <= max_tokens]\n",
    "    print(f'Size after filtering comments longer than {max_tokens} tokens: {df.shape}')\n",
    "\n",
    "    return df\n",
    "\n",
    "def get_word_importances(comments : list[str], p : tf.Pipeline, relative_to: str):\n",
    "\n",
    "    explainer = SequenceClassificationExplainer(p.model, p.tokenizer)\n",
    "\n",
    "    word_imports = {}\n",
    "    for comment in tqdm(comments):\n",
    "        attribs = explainer(comment, class_name=relative_to)\n",
    "        for w, score in attribs:\n",
    "            try:\n",
    "                word_imports[w].append(score)\n",
    "            except KeyError:\n",
    "                word_imports[w] = [score]\n",
    "    return word_imports"
   ]
  },
  {
   "cell_type": "code",
   "execution_count": 3,
   "metadata": {},
   "outputs": [
    {
     "name": "stderr",
     "output_type": "stream",
     "text": [
      "/home/maxspad/mambaforge/envs/nlp-qual-max/lib/python3.9/site-packages/transformers/pipelines/text_classification.py:104: UserWarning: `return_all_scores` is now deprecated,  if want a similar funcionality use `top_k=None` instead of `return_all_scores=True` or `top_k=1` instead of `return_all_scores=False`.\n",
      "  warnings.warn(\n"
     ]
    }
   ],
   "source": [
    "p = load_model_pipeline('maxspad','nlp-qual','qual')\n",
    "df = load_data('../data')"
   ]
  },
  {
   "cell_type": "code",
   "execution_count": 4,
   "metadata": {},
   "outputs": [
    {
     "name": "stdout",
     "output_type": "stream",
     "text": [
      "Original df size: (2500, 46)\n",
      "Filling NAN in comment with \"blank\"\n",
      "Size after filtering comments longer than 127 tokens: (2287, 47)\n"
     ]
    },
    {
     "name": "stderr",
     "output_type": "stream",
     "text": [
      "100%|██████████| 2287/2287 [04:31<00:00,  8.43it/s]\n"
     ]
    }
   ],
   "source": [
    "df = clean_data(df, p, max_tokens=127)\n",
    "word_imports = get_word_importances(df.comment.tolist(), p, 'LABEL_3')"
   ]
  },
  {
   "cell_type": "code",
   "execution_count": 50,
   "metadata": {},
   "outputs": [
    {
     "data": {
      "text/plain": [
       "497"
      ]
     },
     "execution_count": 50,
     "metadata": {},
     "output_type": "execute_result"
    }
   ],
   "source": [
    "len(word_imports)"
   ]
  },
  {
   "cell_type": "code",
   "execution_count": 3,
   "metadata": {},
   "outputs": [
    {
     "name": "stderr",
     "output_type": "stream",
     "text": [
      "/Users/maxspad/mambaforge/envs/nlp-qual-max/lib/python3.9/site-packages/transformers/pipelines/text_classification.py:104: UserWarning: `return_all_scores` is now deprecated,  if want a similar funcionality use `top_k=None` instead of `return_all_scores=True` or `top_k=1` instead of `return_all_scores=False`.\n",
      "  warnings.warn(\n"
     ]
    }
   ],
   "source": [
    "p = load_model('maxspad','nlp-qual','qual')"
   ]
  },
  {
   "cell_type": "code",
   "execution_count": 4,
   "metadata": {},
   "outputs": [],
   "source": [
    "from transformers_interpret import SequenceClassificationExplainer"
   ]
  },
  {
   "cell_type": "code",
   "execution_count": 26,
   "metadata": {},
   "outputs": [],
   "source": [
    "tok_lens = [len(toks) for toks in p.tokenizer(df.comment.dropna().tolist())['input_ids']]"
   ]
  },
  {
   "cell_type": "code",
   "execution_count": 28,
   "metadata": {},
   "outputs": [
    {
     "data": {
      "text/plain": [
       "719"
      ]
     },
     "execution_count": 28,
     "metadata": {},
     "output_type": "execute_result"
    }
   ],
   "source": []
  },
  {
   "cell_type": "code",
   "execution_count": null,
   "metadata": {},
   "outputs": [],
   "source": []
  },
  {
   "cell_type": "code",
   "execution_count": 21,
   "metadata": {},
   "outputs": [
    {
     "data": {
      "text/plain": [
       "BertConfig {\n",
       "  \"_name_or_path\": \"maxspad/nlp-qual-qual\",\n",
       "  \"architectures\": [\n",
       "    \"BertForSequenceClassification\"\n",
       "  ],\n",
       "  \"attention_probs_dropout_prob\": 0.1,\n",
       "  \"classifier_dropout\": null,\n",
       "  \"hidden_act\": \"gelu\",\n",
       "  \"hidden_dropout_prob\": 0.1,\n",
       "  \"hidden_size\": 768,\n",
       "  \"id2label\": {\n",
       "    \"0\": \"LABEL_0\",\n",
       "    \"1\": \"LABEL_1\",\n",
       "    \"2\": \"LABEL_2\",\n",
       "    \"3\": \"LABEL_3\",\n",
       "    \"4\": \"LABEL_4\",\n",
       "    \"5\": \"LABEL_5\"\n",
       "  },\n",
       "  \"initializer_range\": 0.02,\n",
       "  \"intermediate_size\": 3072,\n",
       "  \"label2id\": {\n",
       "    \"LABEL_0\": 0,\n",
       "    \"LABEL_1\": 1,\n",
       "    \"LABEL_2\": 2,\n",
       "    \"LABEL_3\": 3,\n",
       "    \"LABEL_4\": 4,\n",
       "    \"LABEL_5\": 5\n",
       "  },\n",
       "  \"layer_norm_eps\": 1e-12,\n",
       "  \"max_position_embeddings\": 512,\n",
       "  \"model_type\": \"bert\",\n",
       "  \"num_attention_heads\": 12,\n",
       "  \"num_hidden_layers\": 12,\n",
       "  \"pad_token_id\": 0,\n",
       "  \"position_embedding_type\": \"absolute\",\n",
       "  \"problem_type\": \"single_label_classification\",\n",
       "  \"torch_dtype\": \"float32\",\n",
       "  \"transformers_version\": \"4.27.4\",\n",
       "  \"type_vocab_size\": 2,\n",
       "  \"use_cache\": true,\n",
       "  \"vocab_size\": 28996\n",
       "}"
      ]
     },
     "execution_count": 21,
     "metadata": {},
     "output_type": "execute_result"
    }
   ],
   "source": [
    "p.model.config"
   ]
  },
  {
   "cell_type": "code",
   "execution_count": 5,
   "metadata": {},
   "outputs": [],
   "source": [
    "cls_explainer = SequenceClassificationExplainer(p.model, p.tokenizer)"
   ]
  },
  {
   "cell_type": "code",
   "execution_count": 8,
   "metadata": {},
   "outputs": [],
   "source": []
  },
  {
   "cell_type": "code",
   "execution_count": 16,
   "metadata": {},
   "outputs": [
    {
     "data": {
      "text/plain": [
       "{'input_ids': [[101, 124, 1107, 25098, 6006, 119, 1960, 192, 120, 184, 18311, 1193, 2941, 117, 1141, 1125, 2846, 1956, 119, 2750, 5531, 117, 5113, 1116, 1106, 3242, 1106, 1294, 8313, 1105, 1759, 1106, 10407, 1172, 119, 102], [101, 124, 1107, 25098, 6006, 119, 1960, 192, 120, 184, 18311, 1193, 2941, 117, 1141, 1125, 2846, 1956, 119, 2750, 5531, 117, 5113, 1116, 1106, 3242, 1106, 1294, 8313, 1105, 1759, 1106, 10407, 1172, 119, 102]], 'token_type_ids': [[0, 0, 0, 0, 0, 0, 0, 0, 0, 0, 0, 0, 0, 0, 0, 0, 0, 0, 0, 0, 0, 0, 0, 0, 0, 0, 0, 0, 0, 0, 0, 0, 0, 0, 0, 0], [0, 0, 0, 0, 0, 0, 0, 0, 0, 0, 0, 0, 0, 0, 0, 0, 0, 0, 0, 0, 0, 0, 0, 0, 0, 0, 0, 0, 0, 0, 0, 0, 0, 0, 0, 0]], 'attention_mask': [[1, 1, 1, 1, 1, 1, 1, 1, 1, 1, 1, 1, 1, 1, 1, 1, 1, 1, 1, 1, 1, 1, 1, 1, 1, 1, 1, 1, 1, 1, 1, 1, 1, 1, 1, 1], [1, 1, 1, 1, 1, 1, 1, 1, 1, 1, 1, 1, 1, 1, 1, 1, 1, 1, 1, 1, 1, 1, 1, 1, 1, 1, 1, 1, 1, 1, 1, 1, 1, 1, 1, 1]]}"
      ]
     },
     "execution_count": 16,
     "metadata": {},
     "output_type": "execute_result"
    }
   ],
   "source": [
    "p.tokenizer([comment, comment])"
   ]
  },
  {
   "cell_type": "code",
   "execution_count": 13,
   "metadata": {},
   "outputs": [
    {
     "name": "stdout",
     "output_type": "stream",
     "text": [
      "3 intubations. Two w/o paralytic, one had difficult features. Good technique, listens to ways to make improvements and works to implement them.\n"
     ]
    },
    {
     "data": {
      "text/plain": [
       "[('[CLS]', 0.0),\n",
       " ('3', 0.005185757033069379),\n",
       " ('in', 0.04395189975750096),\n",
       " ('##tub', -0.02113587613474386),\n",
       " ('##ations', 0.0007418072721983587),\n",
       " ('.', -0.01244410198356168),\n",
       " ('Two', 0.07038895208989684),\n",
       " ('w', 0.030665099802163035),\n",
       " ('/', 0.06931605859413979),\n",
       " ('o', 0.010496900965436122),\n",
       " ('para', 0.05789081846478245),\n",
       " ('##ly', 0.036046785326364725),\n",
       " ('##tic', 0.05362616533392286),\n",
       " (',', 0.0369501769953565),\n",
       " ('one', 0.10680154519293895),\n",
       " ('had', 0.14328514343932056),\n",
       " ('difficult', 0.1777208542181716),\n",
       " ('features', 0.12301101772702572),\n",
       " ('.', 0.07466439980589178),\n",
       " ('Good', 0.11170049467262178),\n",
       " ('technique', 0.21197054046343647),\n",
       " (',', 0.05348651487955829),\n",
       " ('listen', 0.44825852529961574),\n",
       " ('##s', -0.05666687142929514),\n",
       " ('to', 0.14741974984557887),\n",
       " ('ways', 0.6395882107306262),\n",
       " ('to', 0.14521857051295992),\n",
       " ('make', 0.15130049355768155),\n",
       " ('improvements', 0.08790667123189103),\n",
       " ('and', 0.08584647610711459),\n",
       " ('works', 0.14438028478700984),\n",
       " ('to', 0.16527520770981133),\n",
       " ('implement', -0.21093632526856665),\n",
       " ('them', 0.21182926646827385),\n",
       " ('.', 0.04101880405138533),\n",
       " ('[SEP]', 0.0)]"
      ]
     },
     "execution_count": 13,
     "metadata": {},
     "output_type": "execute_result"
    }
   ],
   "source": [
    "comment = df.comment.sample(1).iloc[0]\n",
    "print(comment)\n",
    "cls_explainer(comment)"
   ]
  },
  {
   "cell_type": "code",
   "execution_count": null,
   "metadata": {},
   "outputs": [],
   "source": []
  }
 ],
 "metadata": {
  "kernelspec": {
   "display_name": "nlp-qual-max",
   "language": "python",
   "name": "python3"
  },
  "language_info": {
   "codemirror_mode": {
    "name": "ipython",
    "version": 3
   },
   "file_extension": ".py",
   "mimetype": "text/x-python",
   "name": "python",
   "nbconvert_exporter": "python",
   "pygments_lexer": "ipython3",
   "version": "3.9.16"
  },
  "orig_nbformat": 4
 },
 "nbformat": 4,
 "nbformat_minor": 2
}
