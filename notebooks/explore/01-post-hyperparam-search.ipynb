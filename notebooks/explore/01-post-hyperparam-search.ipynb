{
 "cells": [
  {
   "cell_type": "code",
   "execution_count": 1,
   "metadata": {},
   "outputs": [
    {
     "data": {
      "text/plain": [
       "'/home/maxspad/proj/nlp-qual-max'"
      ]
     },
     "execution_count": 1,
     "metadata": {},
     "output_type": "execute_result"
    }
   ],
   "source": [
    "import os\n",
    "os.chdir('../../')\n",
    "os.getcwd()"
   ]
  },
  {
   "cell_type": "code",
   "execution_count": 2,
   "metadata": {},
   "outputs": [],
   "source": [
    "import pandas as pd\n",
    "import mlflow\n",
    "import statsmodels.api as sm\n",
    "import statsmodels.formula.api as smf\n",
    "from sklearn.linear_model import LinearRegression\n",
    "from sklearn.preprocessing import MinMaxScaler, StandardScaler\n",
    "from sklearn.pipeline import Pipeline, make_pipeline\n",
    "import src.models.train as train\n",
    "from omegaconf import DictConfig, OmegaConf\n",
    "from pprint import pprint"
   ]
  },
  {
   "cell_type": "markdown",
   "metadata": {},
   "source": [
    "## Global Parameters"
   ]
  },
  {
   "cell_type": "code",
   "execution_count": 3,
   "metadata": {},
   "outputs": [],
   "source": [
    "EXPERIMENT_NAME = '220630_154710_random_trials10000'\n",
    "KEY_METRIC = 'metrics_mean_test_balanced_accuracy'"
   ]
  },
  {
   "cell_type": "markdown",
   "metadata": {},
   "source": [
    "## Get list of runs"
   ]
  },
  {
   "cell_type": "code",
   "execution_count": 4,
   "metadata": {},
   "outputs": [
    {
     "name": "stdout",
     "output_type": "stream",
     "text": [
      "(10000, 58)\n"
     ]
    }
   ],
   "source": [
    "df = mlflow.search_runs(experiment_names=[EXPERIMENT_NAME])\n",
    "df.columns = [c.replace('.','_') for c in df.columns]\n",
    "df = df.sort_values(KEY_METRIC, ascending=False)\n",
    "print(df.shape)"
   ]
  },
  {
   "cell_type": "markdown",
   "metadata": {},
   "source": [
    "## Linear regression for parameter importance\n",
    "Fit a simple linear regression model on the `KEY_METRIC` (balanced accuracy score) with hyperparams as the \n",
    "independent variables. This gives us a rough estimate of hyperparameter importance."
   ]
  },
  {
   "cell_type": "code",
   "execution_count": 5,
   "metadata": {},
   "outputs": [],
   "source": [
    "metric_cols = df.filter(regex=r'metrics_mean_').columns\n",
    "param_cols = df.filter(regex=r'params_').columns"
   ]
  },
  {
   "cell_type": "code",
   "execution_count": 6,
   "metadata": {},
   "outputs": [],
   "source": [
    "X = df[param_cols].copy()\n",
    "X = X.replace({'True': 1, 'False': 0})\n",
    "X = X.drop(['params_mlflow_experiment_name','params_random_seed','params_train_path','params_target_var','params_mlflow_tracking_dir','params_max_iter','params_text_var','params_conda_yaml_path','params_class_weight'], axis=1)\n",
    "y = df[KEY_METRIC]\n",
    "\n",
    "mdl = LinearRegression()\n",
    "pipe = make_pipeline(MinMaxScaler(), mdl)\n",
    "\n",
    "pipe = pipe.fit(X, y)"
   ]
  },
  {
   "cell_type": "markdown",
   "metadata": {},
   "source": [
    "### Hyperparameter Importance"
   ]
  },
  {
   "cell_type": "code",
   "execution_count": 7,
   "metadata": {},
   "outputs": [
    {
     "data": {
      "text/html": [
       "<div>\n",
       "<style scoped>\n",
       "    .dataframe tbody tr th:only-of-type {\n",
       "        vertical-align: middle;\n",
       "    }\n",
       "\n",
       "    .dataframe tbody tr th {\n",
       "        vertical-align: top;\n",
       "    }\n",
       "\n",
       "    .dataframe thead th {\n",
       "        text-align: right;\n",
       "    }\n",
       "</style>\n",
       "<table border=\"1\" class=\"dataframe\">\n",
       "  <thead>\n",
       "    <tr style=\"text-align: right;\">\n",
       "      <th></th>\n",
       "      <th>feature</th>\n",
       "      <th>coef</th>\n",
       "    </tr>\n",
       "  </thead>\n",
       "  <tbody>\n",
       "    <tr>\n",
       "      <th>8</th>\n",
       "      <td>params_lemma</td>\n",
       "      <td>-0.002000</td>\n",
       "    </tr>\n",
       "    <tr>\n",
       "      <th>11</th>\n",
       "      <td>params_min_df</td>\n",
       "      <td>-0.001638</td>\n",
       "    </tr>\n",
       "    <tr>\n",
       "      <th>3</th>\n",
       "      <td>params_ent_counts</td>\n",
       "      <td>-0.000631</td>\n",
       "    </tr>\n",
       "    <tr>\n",
       "      <th>5</th>\n",
       "      <td>params_punct</td>\n",
       "      <td>-0.000221</td>\n",
       "    </tr>\n",
       "    <tr>\n",
       "      <th>12</th>\n",
       "      <td>params_ngram_min</td>\n",
       "      <td>0.000000</td>\n",
       "    </tr>\n",
       "    <tr>\n",
       "      <th>9</th>\n",
       "      <td>params_ngram_max</td>\n",
       "      <td>0.000246</td>\n",
       "    </tr>\n",
       "    <tr>\n",
       "      <th>2</th>\n",
       "      <td>params_token_count</td>\n",
       "      <td>0.001214</td>\n",
       "    </tr>\n",
       "    <tr>\n",
       "      <th>0</th>\n",
       "      <td>params_vectors</td>\n",
       "      <td>0.003294</td>\n",
       "    </tr>\n",
       "    <tr>\n",
       "      <th>7</th>\n",
       "      <td>params_pron</td>\n",
       "      <td>0.003604</td>\n",
       "    </tr>\n",
       "    <tr>\n",
       "      <th>4</th>\n",
       "      <td>params_pos_counts</td>\n",
       "      <td>0.006164</td>\n",
       "    </tr>\n",
       "    <tr>\n",
       "      <th>6</th>\n",
       "      <td>params_max_df</td>\n",
       "      <td>0.006732</td>\n",
       "    </tr>\n",
       "    <tr>\n",
       "      <th>10</th>\n",
       "      <td>params_stop</td>\n",
       "      <td>0.025747</td>\n",
       "    </tr>\n",
       "    <tr>\n",
       "      <th>1</th>\n",
       "      <td>params_model_c</td>\n",
       "      <td>0.027854</td>\n",
       "    </tr>\n",
       "  </tbody>\n",
       "</table>\n",
       "</div>"
      ],
      "text/plain": [
       "               feature      coef\n",
       "8         params_lemma -0.002000\n",
       "11       params_min_df -0.001638\n",
       "3    params_ent_counts -0.000631\n",
       "5         params_punct -0.000221\n",
       "12    params_ngram_min  0.000000\n",
       "9     params_ngram_max  0.000246\n",
       "2   params_token_count  0.001214\n",
       "0       params_vectors  0.003294\n",
       "7          params_pron  0.003604\n",
       "4    params_pos_counts  0.006164\n",
       "6        params_max_df  0.006732\n",
       "10         params_stop  0.025747\n",
       "1       params_model_c  0.027854"
      ]
     },
     "execution_count": 7,
     "metadata": {},
     "output_type": "execute_result"
    }
   ],
   "source": [
    "param_imp = pd.DataFrame({'feature': pipe.feature_names_in_, 'coef': pipe[-1].coef_})\n",
    "param_imp.sort_values('coef', inplace=True)\n",
    "param_imp"
   ]
  },
  {
   "cell_type": "markdown",
   "metadata": {},
   "source": [
    "## Pare Down Best Model\n",
    "Attempt to simplify the best model fit while losing as little performance as possible"
   ]
  },
  {
   "cell_type": "markdown",
   "metadata": {},
   "source": [
    "### Get the best model"
   ]
  },
  {
   "cell_type": "code",
   "execution_count": 8,
   "metadata": {},
   "outputs": [
    {
     "name": "stdout",
     "output_type": "stream",
     "text": [
      "Best Model Run Id: 31003435631a414491775ffe99a6a377\n",
      "\n",
      "Best Model Metrics:\n",
      "metrics_mean_test_f1                   0.906983\n",
      "metrics_mean_test_accuracy             0.852706\n",
      "metrics_mean_test_fn                       36.8\n",
      "metrics_mean_test_fp                       25.8\n",
      "metrics_mean_test_tp                       57.2\n",
      "metrics_mean_test_recall               0.892398\n",
      "metrics_mean_test_tn                      305.2\n",
      "metrics_mean_test_balanced_accuracy    0.790777\n",
      "metrics_mean_test_precision            0.922176\n",
      "metrics_mean_fit_time                  0.213948\n",
      "metrics_mean_test_roc_auc              0.862157\n",
      "metrics_mean_score_time                0.102356\n",
      "Name: 3194, dtype: object\n",
      "\n",
      "Best Model Paramters:\n",
      "params_train_path                        data/processed/train.pkl\n",
      "params_vectors                                               True\n",
      "params_mlflow_tracking_dir                               ./mlruns\n",
      "params_model_c                                               0.01\n",
      "params_text_var                                     comment_spacy\n",
      "params_token_count                                           True\n",
      "params_random_seed                                             43\n",
      "params_ent_counts                                            True\n",
      "params_pos_counts                                           False\n",
      "params_punct                                                False\n",
      "params_max_df                                 0.18723932735537868\n",
      "params_pron                                                  True\n",
      "params_max_iter                                             10000\n",
      "params_lemma                                                 True\n",
      "params_class_weight                                      balanced\n",
      "params_target_var                                              Q2\n",
      "params_mlflow_experiment_name    220630_154710_random_trials10000\n",
      "params_ngram_max                                                1\n",
      "params_conda_yaml_path                               ./conda.yaml\n",
      "params_stop                                                 False\n",
      "params_min_df                                                  15\n",
      "params_ngram_min                                                1\n",
      "Name: 3194, dtype: object\n"
     ]
    }
   ],
   "source": [
    "best_model = df.iloc[0,:]\n",
    "print('Best Model Run Id:', best_model['run_id'])\n",
    "print()\n",
    "print('Best Model Metrics:')\n",
    "print(best_model.filter(regex=r'metrics_mean_'))\n",
    "print()\n",
    "print('Best Model Paramters:')\n",
    "print(best_model.filter(regex=r'params_'))"
   ]
  },
  {
   "cell_type": "code",
   "execution_count": 9,
   "metadata": {},
   "outputs": [],
   "source": [
    "best_model_params = best_model.filter(regex=r'params_')\n",
    "best_model_params.index = [i.replace('params_','') for i in best_model_params.index]\n",
    "best_model_params = best_model_params.to_dict()\n",
    "def safe_eval(v):\n",
    "    try:\n",
    "        return eval(v)\n",
    "    except:\n",
    "        return v\n",
    "best_model_params = {k : safe_eval(best_model_params[k]) for k in best_model_params}\n",
    "conf = DictConfig(content={'train': best_model_params})\n",
    "conf.train.mlflow_experiment_name = 'hparam_simplification'"
   ]
  },
  {
   "cell_type": "markdown",
   "metadata": {},
   "source": [
    "### Baseline"
   ]
  },
  {
   "cell_type": "code",
   "execution_count": 10,
   "metadata": {},
   "outputs": [
    {
     "name": "stdout",
     "output_type": "stream",
     "text": [
      "{'train': {'class_weight': 'balanced',\n",
      "           'conda_yaml_path': './conda.yaml',\n",
      "           'ent_counts': True,\n",
      "           'lemma': True,\n",
      "           'max_df': 0.18723932735537868,\n",
      "           'max_iter': 10000,\n",
      "           'min_df': 15,\n",
      "           'mlflow_experiment_name': 'hparam_simplification',\n",
      "           'mlflow_tracking_dir': './mlruns',\n",
      "           'model_c': 0.01,\n",
      "           'ngram_max': 1,\n",
      "           'ngram_min': 1,\n",
      "           'pos_counts': False,\n",
      "           'pron': True,\n",
      "           'punct': False,\n",
      "           'random_seed': 43,\n",
      "           'stop': False,\n",
      "           'target_var': 'Q2',\n",
      "           'text_var': 'comment_spacy',\n",
      "           'token_count': True,\n",
      "           'train_path': 'data/processed/train.pkl',\n",
      "           'vectors': True}}\n"
     ]
    }
   ],
   "source": [
    "pprint(OmegaConf.to_container(conf))"
   ]
  },
  {
   "cell_type": "code",
   "execution_count": 11,
   "metadata": {},
   "outputs": [
    {
     "name": "stdout",
     "output_type": "stream",
     "text": [
      "0.7907771436623687\n"
     ]
    },
    {
     "name": "stderr",
     "output_type": "stream",
     "text": [
      "/home/maxspad/anaconda3/envs/nlp-qual-max/lib/python3.9/site-packages/_distutils_hack/__init__.py:33: UserWarning: Setuptools is replacing distutils.\n",
      "  warnings.warn(\"Setuptools is replacing distutils.\")\n"
     ]
    }
   ],
   "source": [
    "bal_acc = train.main(conf)[0]\n",
    "print(bal_acc)"
   ]
  },
  {
   "cell_type": "markdown",
   "metadata": {},
   "source": [
    "### Simplification"
   ]
  },
  {
   "cell_type": "code",
   "execution_count": 12,
   "metadata": {},
   "outputs": [],
   "source": [
    "simple = conf.copy()\n",
    "simple.train.ngram_max = 3 # 0.45% reduction\n",
    "simple.train.max_df = 1.0 # 0.75% reduction\n",
    "# simple.train.min_df = 1 # 9.08% reduction\n",
    "# simple.train.lemma = False # 3.19% reduction\n",
    "simple.train.ent_counts = False # 0.79% reduction\n",
    "simple.train.token_count = False # 0.79% reduction\n",
    "# simple.train.pos_counts = True # 0.98% reduction\n",
    "# simple.train.pron = False # 0.79% reduction\n",
    "# simple.train.punct = True # 1.09% reduction\n",
    "# simple.train.stop = True # 1.42% reduction\n",
    "# simple.train.vectors = False # 4.039% reduction"
   ]
  },
  {
   "cell_type": "code",
   "execution_count": 13,
   "metadata": {},
   "outputs": [],
   "source": [
    "simple_bal_acc = train.main(simple)[0]\n",
    "pct_reduction = (1.0 - (simple_bal_acc / bal_acc)) * 100.0"
   ]
  },
  {
   "cell_type": "code",
   "execution_count": 14,
   "metadata": {},
   "outputs": [
    {
     "name": "stdout",
     "output_type": "stream",
     "text": [
      "0.7844958782498415\n",
      "Percent reduction 0.7943154987303358%\n"
     ]
    }
   ],
   "source": [
    "print(simple_bal_acc)\n",
    "print(f'Percent reduction {pct_reduction}%')"
   ]
  },
  {
   "cell_type": "markdown",
   "metadata": {},
   "source": [
    "### Final Simplified Parameters"
   ]
  },
  {
   "cell_type": "code",
   "execution_count": 15,
   "metadata": {},
   "outputs": [
    {
     "name": "stdout",
     "output_type": "stream",
     "text": [
      "{'train': {'class_weight': 'balanced',\n",
      "           'conda_yaml_path': './conda.yaml',\n",
      "           'ent_counts': False,\n",
      "           'lemma': True,\n",
      "           'max_df': 1.0,\n",
      "           'max_iter': 10000,\n",
      "           'min_df': 15,\n",
      "           'mlflow_experiment_name': 'hparam_simplification',\n",
      "           'mlflow_tracking_dir': './mlruns',\n",
      "           'model_c': 0.01,\n",
      "           'ngram_max': 3,\n",
      "           'ngram_min': 1,\n",
      "           'pos_counts': False,\n",
      "           'pron': True,\n",
      "           'punct': False,\n",
      "           'random_seed': 43,\n",
      "           'stop': False,\n",
      "           'target_var': 'Q2',\n",
      "           'text_var': 'comment_spacy',\n",
      "           'token_count': False,\n",
      "           'train_path': 'data/processed/train.pkl',\n",
      "           'vectors': True}}\n"
     ]
    }
   ],
   "source": [
    "pprint(OmegaConf.to_container(simple))"
   ]
  }
 ],
 "metadata": {
  "kernelspec": {
   "display_name": "Python 3.9.13 ('nlp-qual-max')",
   "language": "python",
   "name": "python3"
  },
  "language_info": {
   "codemirror_mode": {
    "name": "ipython",
    "version": 3
   },
   "file_extension": ".py",
   "mimetype": "text/x-python",
   "name": "python",
   "nbconvert_exporter": "python",
   "pygments_lexer": "ipython3",
   "version": "3.9.13"
  },
  "orig_nbformat": 4,
  "vscode": {
   "interpreter": {
    "hash": "579415fc3ec176207406cd1a93e81fe4e9f4037bcae6d6d1085947c86be97477"
   }
  }
 },
 "nbformat": 4,
 "nbformat_minor": 2
}
