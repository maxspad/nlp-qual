{
 "cells": [
  {
   "cell_type": "code",
   "execution_count": 1,
   "metadata": {},
   "outputs": [
    {
     "data": {
      "text/plain": [
       "'/home/maxspad/proj/nlp-qual-max'"
      ]
     },
     "execution_count": 1,
     "metadata": {},
     "output_type": "execute_result"
    }
   ],
   "source": [
    "import os\n",
    "os.chdir('../../')\n",
    "os.getcwd()"
   ]
  },
  {
   "cell_type": "code",
   "execution_count": 2,
   "metadata": {},
   "outputs": [],
   "source": [
    "import pandas as pd\n",
    "import mlflow\n",
    "import statsmodels.api as sm\n",
    "import statsmodels.formula.api as smf\n",
    "from sklearn.linear_model import LinearRegression\n",
    "from sklearn.preprocessing import MinMaxScaler, StandardScaler\n",
    "from sklearn.pipeline import Pipeline, make_pipeline\n",
    "import src.models.train as train\n",
    "from omegaconf import DictConfig, OmegaConf\n",
    "from pprint import pprint"
   ]
  },
  {
   "cell_type": "markdown",
   "metadata": {},
   "source": [
    "## Global Parameters"
   ]
  },
  {
   "cell_type": "code",
   "execution_count": 3,
   "metadata": {},
   "outputs": [],
   "source": [
    "EXPERIMENT_NAME = '220812_123209_q1_10000t_random'\n",
    "KEY_METRIC = 'metrics_mean_test_balanced_accuracy'"
   ]
  },
  {
   "cell_type": "markdown",
   "metadata": {},
   "source": [
    "## Get list of runs"
   ]
  },
  {
   "cell_type": "code",
   "execution_count": 4,
   "metadata": {},
   "outputs": [
    {
     "name": "stdout",
     "output_type": "stream",
     "text": [
      "(6929, 119)\n"
     ]
    }
   ],
   "source": [
    "df = mlflow.search_runs(experiment_names=[EXPERIMENT_NAME])\n",
    "df.columns = [c.replace('.','_') for c in df.columns]\n",
    "df = df.sort_values(KEY_METRIC, ascending=False)\n",
    "print(df.shape)"
   ]
  },
  {
   "cell_type": "code",
   "execution_count": 12,
   "metadata": {},
   "outputs": [],
   "source": [
    "df = df.dropna(subset=KEY_METRIC)"
   ]
  },
  {
   "cell_type": "markdown",
   "metadata": {},
   "source": [
    "## Linear regression for parameter importance\n",
    "Fit a simple linear regression model on the `KEY_METRIC` (balanced accuracy score) with hyperparams as the \n",
    "independent variables. This gives us a rough estimate of hyperparameter importance."
   ]
  },
  {
   "cell_type": "code",
   "execution_count": 13,
   "metadata": {},
   "outputs": [],
   "source": [
    "metric_cols = df.filter(regex=r'metrics_mean_').columns\n",
    "param_cols = df.filter(regex=r'params_').columns"
   ]
  },
  {
   "cell_type": "code",
   "execution_count": 14,
   "metadata": {},
   "outputs": [],
   "source": [
    "X = df[param_cols].copy()\n",
    "X = X.replace({'True': 1, 'False': 0})\n",
    "X = X.drop(['params_mlflow_experiment_name','params_random_seed','params_train_path','params_target_var','params_mlflow_tracking_dir','params_max_iter','params_text_var','params_conda_yaml_path','params_class_weight'], axis=1)\n",
    "y = df[KEY_METRIC]\n",
    "\n",
    "mdl = LinearRegression()\n",
    "pipe = make_pipeline(MinMaxScaler(), mdl)\n",
    "\n",
    "pipe = pipe.fit(X, y)"
   ]
  },
  {
   "cell_type": "markdown",
   "metadata": {},
   "source": [
    "### Hyperparameter Importance"
   ]
  },
  {
   "cell_type": "code",
   "execution_count": 15,
   "metadata": {},
   "outputs": [
    {
     "data": {
      "text/html": [
       "<div>\n",
       "<style scoped>\n",
       "    .dataframe tbody tr th:only-of-type {\n",
       "        vertical-align: middle;\n",
       "    }\n",
       "\n",
       "    .dataframe tbody tr th {\n",
       "        vertical-align: top;\n",
       "    }\n",
       "\n",
       "    .dataframe thead th {\n",
       "        text-align: right;\n",
       "    }\n",
       "</style>\n",
       "<table border=\"1\" class=\"dataframe\">\n",
       "  <thead>\n",
       "    <tr style=\"text-align: right;\">\n",
       "      <th></th>\n",
       "      <th>feature</th>\n",
       "      <th>coef</th>\n",
       "    </tr>\n",
       "  </thead>\n",
       "  <tbody>\n",
       "    <tr>\n",
       "      <th>5</th>\n",
       "      <td>params_min_df</td>\n",
       "      <td>-4.492182e-03</td>\n",
       "    </tr>\n",
       "    <tr>\n",
       "      <th>12</th>\n",
       "      <td>params_ngram_max</td>\n",
       "      <td>-6.211430e-04</td>\n",
       "    </tr>\n",
       "    <tr>\n",
       "      <th>13</th>\n",
       "      <td>params_lemma</td>\n",
       "      <td>-1.343171e-04</td>\n",
       "    </tr>\n",
       "    <tr>\n",
       "      <th>2</th>\n",
       "      <td>params_invert_target</td>\n",
       "      <td>-5.204170e-18</td>\n",
       "    </tr>\n",
       "    <tr>\n",
       "      <th>0</th>\n",
       "      <td>params_ngram_min</td>\n",
       "      <td>0.000000e+00</td>\n",
       "    </tr>\n",
       "    <tr>\n",
       "      <th>1</th>\n",
       "      <td>params_ent_counts</td>\n",
       "      <td>1.337452e-03</td>\n",
       "    </tr>\n",
       "    <tr>\n",
       "      <th>6</th>\n",
       "      <td>params_punct</td>\n",
       "      <td>1.821434e-03</td>\n",
       "    </tr>\n",
       "    <tr>\n",
       "      <th>11</th>\n",
       "      <td>params_token_count</td>\n",
       "      <td>1.884353e-03</td>\n",
       "    </tr>\n",
       "    <tr>\n",
       "      <th>4</th>\n",
       "      <td>params_pron</td>\n",
       "      <td>6.238946e-03</td>\n",
       "    </tr>\n",
       "    <tr>\n",
       "      <th>10</th>\n",
       "      <td>params_pos_counts</td>\n",
       "      <td>7.369767e-03</td>\n",
       "    </tr>\n",
       "    <tr>\n",
       "      <th>8</th>\n",
       "      <td>params_stop</td>\n",
       "      <td>1.697123e-02</td>\n",
       "    </tr>\n",
       "    <tr>\n",
       "      <th>9</th>\n",
       "      <td>params_max_df</td>\n",
       "      <td>2.157737e-02</td>\n",
       "    </tr>\n",
       "    <tr>\n",
       "      <th>3</th>\n",
       "      <td>params_vectors</td>\n",
       "      <td>3.967021e-02</td>\n",
       "    </tr>\n",
       "    <tr>\n",
       "      <th>7</th>\n",
       "      <td>params_model_c</td>\n",
       "      <td>8.122666e-02</td>\n",
       "    </tr>\n",
       "  </tbody>\n",
       "</table>\n",
       "</div>"
      ],
      "text/plain": [
       "                 feature          coef\n",
       "5          params_min_df -4.492182e-03\n",
       "12      params_ngram_max -6.211430e-04\n",
       "13          params_lemma -1.343171e-04\n",
       "2   params_invert_target -5.204170e-18\n",
       "0       params_ngram_min  0.000000e+00\n",
       "1      params_ent_counts  1.337452e-03\n",
       "6           params_punct  1.821434e-03\n",
       "11    params_token_count  1.884353e-03\n",
       "4            params_pron  6.238946e-03\n",
       "10     params_pos_counts  7.369767e-03\n",
       "8            params_stop  1.697123e-02\n",
       "9          params_max_df  2.157737e-02\n",
       "3         params_vectors  3.967021e-02\n",
       "7         params_model_c  8.122666e-02"
      ]
     },
     "execution_count": 15,
     "metadata": {},
     "output_type": "execute_result"
    }
   ],
   "source": [
    "param_imp = pd.DataFrame({'feature': pipe.feature_names_in_, 'coef': pipe[-1].coef_})\n",
    "param_imp.sort_values('coef', inplace=True)\n",
    "param_imp"
   ]
  },
  {
   "cell_type": "markdown",
   "metadata": {},
   "source": [
    "## Pare Down Best Model\n",
    "Attempt to simplify the best model fit while losing as little performance as possible"
   ]
  },
  {
   "cell_type": "markdown",
   "metadata": {},
   "source": [
    "### Get the best model"
   ]
  },
  {
   "cell_type": "code",
   "execution_count": 16,
   "metadata": {},
   "outputs": [
    {
     "name": "stdout",
     "output_type": "stream",
     "text": [
      "Best Model Run Id: 059651b7006d4e0099fdf410fad12532\n",
      "\n",
      "Best Model Metrics:\n",
      "metrics_mean_test_f1_3                 0.751703\n",
      "metrics_mean_test_f1                   0.625673\n",
      "metrics_mean_test_rec_2                0.523388\n",
      "metrics_mean_test_top_3_acc            0.984941\n",
      "metrics_mean_test_cm_3_1                   16.8\n",
      "metrics_mean_test_rec_1                0.512903\n",
      "metrics_mean_test_recall               0.621537\n",
      "metrics_mean_test_cm_2_1                   30.2\n",
      "metrics_mean_test_precision            0.641326\n",
      "metrics_mean_test_rec_0                  0.7375\n",
      "metrics_mean_test_cm_2_2                   69.2\n",
      "metrics_mean_test_top_2_acc            0.871529\n",
      "metrics_mean_test_rec_3                0.712358\n",
      "metrics_mean_test_prec_1               0.392545\n",
      "metrics_mean_test_cm_1_3                    6.0\n",
      "metrics_mean_test_roc_auc                   NaN\n",
      "metrics_mean_test_cm_0_0                   11.8\n",
      "metrics_mean_test_accuracy             0.625412\n",
      "metrics_mean_test_cm_0_1                    3.0\n",
      "metrics_mean_test_cm_1_2                   22.6\n",
      "metrics_mean_test_cm_3_2                   45.0\n",
      "metrics_mean_test_supp_0                   16.0\n",
      "metrics_mean_test_cm_3_3                  153.0\n",
      "metrics_mean_test_cm_0_2                    0.8\n",
      "metrics_mean_score_time                0.216159\n",
      "metrics_mean_test_prec_0               0.874526\n",
      "metrics_mean_test_prec_3               0.796538\n",
      "metrics_mean_test_supp_1                   62.0\n",
      "metrics_mean_test_cm_1_0                    1.6\n",
      "metrics_mean_test_supp_3                  214.8\n",
      "metrics_mean_test_f1_2                 0.511886\n",
      "metrics_mean_test_f1_0                 0.795597\n",
      "metrics_mean_test_cm_0_3                    0.4\n",
      "metrics_mean_test_cm_2_0                    0.2\n",
      "metrics_mean_test_f1_1                 0.443507\n",
      "metrics_mean_fit_time                  0.791288\n",
      "metrics_mean_test_cm_3_0                    0.0\n",
      "metrics_mean_test_balanced_accuracy    0.621537\n",
      "metrics_mean_test_prec_2               0.501693\n",
      "metrics_mean_test_supp_2                  132.2\n",
      "metrics_mean_test_cm_2_3                   32.6\n",
      "metrics_mean_test_cm_1_1                   31.8\n",
      "Name: 1498, dtype: object\n",
      "\n",
      "Best Model Paramters:\n",
      "params_ngram_min                                              1\n",
      "params_ent_counts                                          True\n",
      "params_invert_target                                       True\n",
      "params_vectors                                             True\n",
      "params_random_seed                                           43\n",
      "params_pron                                               False\n",
      "params_mlflow_experiment_name    220812_123209_q1_10000t_random\n",
      "params_train_path                      data/processed/train.pkl\n",
      "params_min_df                                                 6\n",
      "params_punct                                              False\n",
      "params_mlflow_tracking_dir                             ./mlruns\n",
      "params_conda_yaml_path                             ./conda.yaml\n",
      "params_class_weight                                    balanced\n",
      "params_model_c                                             0.01\n",
      "params_stop                                                True\n",
      "params_max_iter                                           10000\n",
      "params_target_var                                            Q1\n",
      "params_max_df                                0.8203939665297079\n",
      "params_text_var                                   comment_spacy\n",
      "params_pos_counts                                          True\n",
      "params_token_count                                         True\n",
      "params_ngram_max                                              7\n",
      "params_lemma                                               True\n",
      "Name: 1498, dtype: object\n"
     ]
    }
   ],
   "source": [
    "best_model = df.iloc[0,:]\n",
    "print('Best Model Run Id:', best_model['run_id'])\n",
    "print()\n",
    "print('Best Model Metrics:')\n",
    "print(best_model.filter(regex=r'metrics_mean_'))\n",
    "print()\n",
    "print('Best Model Paramters:')\n",
    "print(best_model.filter(regex=r'params_'))"
   ]
  },
  {
   "cell_type": "code",
   "execution_count": 28,
   "metadata": {},
   "outputs": [],
   "source": [
    "best_model_params = best_model.filter(regex=r'params_')\n",
    "best_model_params.index = [i.replace('params_','') for i in best_model_params.index]\n",
    "best_model_params = best_model_params.to_dict()\n",
    "def safe_eval(v):\n",
    "    try:\n",
    "        return eval(v)\n",
    "    except:\n",
    "        return v\n",
    "best_model_params = {k : safe_eval(best_model_params[k]) for k in best_model_params}\n",
    "conf = DictConfig(content={'train': best_model_params})\n",
    "conf.train.mlflow_experiment_name = 'q1_hparam_simplification'"
   ]
  },
  {
   "cell_type": "markdown",
   "metadata": {},
   "source": [
    "### Baseline"
   ]
  },
  {
   "cell_type": "code",
   "execution_count": 29,
   "metadata": {},
   "outputs": [
    {
     "name": "stdout",
     "output_type": "stream",
     "text": [
      "{'train': {'class_weight': 'balanced',\n",
      "           'conda_yaml_path': './conda.yaml',\n",
      "           'ent_counts': True,\n",
      "           'invert_target': True,\n",
      "           'lemma': True,\n",
      "           'max_df': 0.8203939665297079,\n",
      "           'max_iter': 10000,\n",
      "           'min_df': 6,\n",
      "           'mlflow_experiment_name': 'q1_hparam_simplification',\n",
      "           'mlflow_tracking_dir': './mlruns',\n",
      "           'model_c': 0.01,\n",
      "           'ngram_max': 7,\n",
      "           'ngram_min': 1,\n",
      "           'pos_counts': True,\n",
      "           'pron': False,\n",
      "           'punct': False,\n",
      "           'random_seed': 43,\n",
      "           'stop': True,\n",
      "           'target_var': 'Q1',\n",
      "           'text_var': 'comment_spacy',\n",
      "           'token_count': True,\n",
      "           'train_path': 'data/processed/train.pkl',\n",
      "           'vectors': True}}\n"
     ]
    }
   ],
   "source": [
    "pprint(OmegaConf.to_container(conf))"
   ]
  },
  {
   "cell_type": "code",
   "execution_count": 30,
   "metadata": {},
   "outputs": [
    {
     "name": "stderr",
     "output_type": "stream",
     "text": [
      "2022/08/12 14:38:48 INFO mlflow.tracking.fluent: Experiment with name 'q1_hparam_simplification' does not exist. Creating a new experiment.\n",
      "Target Q1 has 4 levels! Metrics will be multi-level.\n",
      "Cannot invert a multi-level target! Ignoring\n"
     ]
    },
    {
     "name": "stdout",
     "output_type": "stream",
     "text": [
      "0.6215373560758563\n"
     ]
    }
   ],
   "source": [
    "bal_acc = train.main(conf)[0]\n",
    "print(bal_acc)"
   ]
  },
  {
   "cell_type": "markdown",
   "metadata": {},
   "source": [
    "### Simplification"
   ]
  },
  {
   "cell_type": "markdown",
   "metadata": {},
   "source": [
    "### Q1"
   ]
  },
  {
   "cell_type": "code",
   "execution_count": 45,
   "metadata": {},
   "outputs": [],
   "source": [
    "simple = conf.copy()\n",
    "simple.train.ngram_max = 3 # 0.045% IMPROVEMENT\n",
    "simple.train.max_df = 1.0 # 0.045% IMPROVEMENT\n",
    "# simple.train.min_df = 1 # 2.73% reduction\n",
    "# simple.train.lemma = False # 1.36% reduction\n",
    "simple.train.ent_counts = False # 0.06% IMPROVEMENT\n",
    "simple.train.token_count = False # 0.13% IMPROVEMENT\n",
    "# simple.train.pos_counts = False # 0.08% reduction\n",
    "# simple.train.pron = True # 0.46% reduction\n",
    "# simple.train.punct = True # 0.46% reduction\n",
    "# simple.train.stop = False # 3.18% reduction\n",
    "# simple.train.vectors = False # "
   ]
  },
  {
   "cell_type": "code",
   "execution_count": 46,
   "metadata": {},
   "outputs": [
    {
     "name": "stderr",
     "output_type": "stream",
     "text": [
      "Target Q1 has 4 levels! Metrics will be multi-level.\n",
      "Cannot invert a multi-level target! Ignoring\n"
     ]
    },
    {
     "name": "stdout",
     "output_type": "stream",
     "text": [
      "0.6223438076887595\n",
      "-0.12975110908777232\n"
     ]
    }
   ],
   "source": [
    "simple_bal_acc = train.main(simple)[0]\n",
    "pct_reduction = (1.0 - (simple_bal_acc / bal_acc)) * 100.0\n",
    "print(simple_bal_acc)\n",
    "print(pct_reduction)"
   ]
  },
  {
   "cell_type": "markdown",
   "metadata": {},
   "source": [
    "### Q3"
   ]
  },
  {
   "cell_type": "code",
   "execution_count": 12,
   "metadata": {},
   "outputs": [],
   "source": [
    "simple = conf.copy()\n",
    "simple.train.ngram_max = 3 # 0.45% reduction\n",
    "simple.train.max_df = 1.0 # 0.75% reduction\n",
    "# simple.train.min_df = 1 # 9.08% reduction\n",
    "# simple.train.lemma = False # 3.19% reduction\n",
    "simple.train.ent_counts = False # 0.79% reduction\n",
    "simple.train.token_count = False # 0.79% reduction\n",
    "# simple.train.pos_counts = True # 0.98% reduction\n",
    "# simple.train.pron = False # 0.79% reduction\n",
    "# simple.train.punct = True # 1.09% reduction\n",
    "# simple.train.stop = True # 1.42% reduction\n",
    "# simple.train.vectors = False # 4.039% reduction"
   ]
  },
  {
   "cell_type": "code",
   "execution_count": 13,
   "metadata": {},
   "outputs": [],
   "source": [
    "simple_bal_acc = train.main(simple)[0]\n",
    "pct_reduction = (1.0 - (simple_bal_acc / bal_acc)) * 100.0"
   ]
  },
  {
   "cell_type": "code",
   "execution_count": 14,
   "metadata": {},
   "outputs": [
    {
     "name": "stdout",
     "output_type": "stream",
     "text": [
      "0.7844958782498415\n",
      "Percent reduction 0.7943154987303358%\n"
     ]
    }
   ],
   "source": [
    "print(simple_bal_acc)\n",
    "print(f'Percent reduction {pct_reduction}%')"
   ]
  },
  {
   "cell_type": "markdown",
   "metadata": {},
   "source": [
    "### Final Simplified Parameters"
   ]
  },
  {
   "cell_type": "code",
   "execution_count": 47,
   "metadata": {},
   "outputs": [
    {
     "name": "stdout",
     "output_type": "stream",
     "text": [
      "{'train': {'class_weight': 'balanced',\n",
      "           'conda_yaml_path': './conda.yaml',\n",
      "           'ent_counts': False,\n",
      "           'invert_target': True,\n",
      "           'lemma': True,\n",
      "           'max_df': 1.0,\n",
      "           'max_iter': 10000,\n",
      "           'min_df': 6,\n",
      "           'mlflow_experiment_name': 'q1_hparam_simplification',\n",
      "           'mlflow_tracking_dir': './mlruns',\n",
      "           'model_c': 0.01,\n",
      "           'ngram_max': 3,\n",
      "           'ngram_min': 1,\n",
      "           'pos_counts': True,\n",
      "           'pron': False,\n",
      "           'punct': False,\n",
      "           'random_seed': 43,\n",
      "           'stop': True,\n",
      "           'target_var': 'Q1',\n",
      "           'text_var': 'comment_spacy',\n",
      "           'token_count': False,\n",
      "           'train_path': 'data/processed/train.pkl',\n",
      "           'vectors': True}}\n"
     ]
    }
   ],
   "source": [
    "pprint(OmegaConf.to_container(simple))"
   ]
  }
 ],
 "metadata": {
  "kernelspec": {
   "display_name": "Python 3.9.13 ('nlp-qual-max')",
   "language": "python",
   "name": "python3"
  },
  "language_info": {
   "codemirror_mode": {
    "name": "ipython",
    "version": 3
   },
   "file_extension": ".py",
   "mimetype": "text/x-python",
   "name": "python",
   "nbconvert_exporter": "python",
   "pygments_lexer": "ipython3",
   "version": "3.9.13"
  },
  "orig_nbformat": 4,
  "vscode": {
   "interpreter": {
    "hash": "579415fc3ec176207406cd1a93e81fe4e9f4037bcae6d6d1085947c86be97477"
   }
  }
 },
 "nbformat": 4,
 "nbformat_minor": 2
}
