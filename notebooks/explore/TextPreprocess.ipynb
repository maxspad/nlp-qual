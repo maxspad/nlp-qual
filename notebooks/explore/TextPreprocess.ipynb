{
 "cells": [
  {
   "cell_type": "code",
   "execution_count": 1,
   "id": "5e37f75b",
   "metadata": {},
   "outputs": [],
   "source": [
    "import pandas as pd"
   ]
  },
  {
   "cell_type": "code",
   "execution_count": 2,
   "id": "5e6d6253",
   "metadata": {},
   "outputs": [],
   "source": [
    "df = pd.read_excel(\"masterdbFromRobMac.xlsx\",  index_col=0)"
   ]
  },
  {
   "cell_type": "code",
   "execution_count": 3,
   "id": "ac3844bc",
   "metadata": {},
   "outputs": [
    {
     "data": {
      "text/html": [
       "<div>\n",
       "<style scoped>\n",
       "    .dataframe tbody tr th:only-of-type {\n",
       "        vertical-align: middle;\n",
       "    }\n",
       "\n",
       "    .dataframe tbody tr th {\n",
       "        vertical-align: top;\n",
       "    }\n",
       "\n",
       "    .dataframe thead th {\n",
       "        text-align: right;\n",
       "    }\n",
       "</style>\n",
       "<table border=\"1\" class=\"dataframe\">\n",
       "  <thead>\n",
       "    <tr style=\"text-align: right;\">\n",
       "      <th></th>\n",
       "      <th>commentId</th>\n",
       "      <th>dataSource</th>\n",
       "      <th>NumberFromRawData</th>\n",
       "      <th>comment</th>\n",
       "      <th>rating</th>\n",
       "      <th>Survey N</th>\n",
       "      <th>Question N</th>\n",
       "      <th>q1p1</th>\n",
       "      <th>q1p2</th>\n",
       "      <th>q2p1</th>\n",
       "      <th>...</th>\n",
       "      <th>P2QualScore</th>\n",
       "      <th>Q1Match</th>\n",
       "      <th>Q2Match</th>\n",
       "      <th>Q3Match</th>\n",
       "      <th>perfectMatch</th>\n",
       "      <th>RobMacCommentModified</th>\n",
       "      <th>RobMacQ1</th>\n",
       "      <th>RobMacQ2</th>\n",
       "      <th>RobMacQ3</th>\n",
       "      <th>RobMacQualScore</th>\n",
       "    </tr>\n",
       "  </thead>\n",
       "  <tbody>\n",
       "    <tr>\n",
       "      <th>7</th>\n",
       "      <td>7</td>\n",
       "      <td>Sas</td>\n",
       "      <td>8</td>\n",
       "      <td>The trainee had all the appropriate things re...</td>\n",
       "      <td>5.0</td>\n",
       "      <td>1</td>\n",
       "      <td>8</td>\n",
       "      <td>3</td>\n",
       "      <td>2</td>\n",
       "      <td>2</td>\n",
       "      <td>...</td>\n",
       "      <td>3</td>\n",
       "      <td>False</td>\n",
       "      <td>True</td>\n",
       "      <td>False</td>\n",
       "      <td>False</td>\n",
       "      <td>The trainee had all the appropriate things re...</td>\n",
       "      <td>1.0</td>\n",
       "      <td>0.0</td>\n",
       "      <td>0.0</td>\n",
       "      <td>1.0</td>\n",
       "    </tr>\n",
       "    <tr>\n",
       "      <th>35</th>\n",
       "      <td>35</td>\n",
       "      <td>Sas</td>\n",
       "      <td>36</td>\n",
       "      <td>Thorough assessments and good clinical judgmen...</td>\n",
       "      <td>5.0</td>\n",
       "      <td>1</td>\n",
       "      <td>36</td>\n",
       "      <td>3</td>\n",
       "      <td>2</td>\n",
       "      <td>2</td>\n",
       "      <td>...</td>\n",
       "      <td>2</td>\n",
       "      <td>False</td>\n",
       "      <td>True</td>\n",
       "      <td>True</td>\n",
       "      <td>False</td>\n",
       "      <td>Thorough assessments and good clinical judgmen...</td>\n",
       "      <td>1.0</td>\n",
       "      <td>0.0</td>\n",
       "      <td>0.0</td>\n",
       "      <td>1.0</td>\n",
       "    </tr>\n",
       "    <tr>\n",
       "      <th>74</th>\n",
       "      <td>74</td>\n",
       "      <td>Sas</td>\n",
       "      <td>75</td>\n",
       "      <td>the trainee uses EDUS appropriately and with ...</td>\n",
       "      <td>5.0</td>\n",
       "      <td>2</td>\n",
       "      <td>25</td>\n",
       "      <td>1</td>\n",
       "      <td>2</td>\n",
       "      <td>2</td>\n",
       "      <td>...</td>\n",
       "      <td>2</td>\n",
       "      <td>False</td>\n",
       "      <td>True</td>\n",
       "      <td>True</td>\n",
       "      <td>False</td>\n",
       "      <td>the trainee uses EDUS appropriately and with ...</td>\n",
       "      <td>1.0</td>\n",
       "      <td>0.0</td>\n",
       "      <td>0.0</td>\n",
       "      <td>1.0</td>\n",
       "    </tr>\n",
       "    <tr>\n",
       "      <th>86</th>\n",
       "      <td>86</td>\n",
       "      <td>Sas</td>\n",
       "      <td>87</td>\n",
       "      <td>required prompting optho treatment. Eye rinse ...</td>\n",
       "      <td>3.0</td>\n",
       "      <td>2</td>\n",
       "      <td>37</td>\n",
       "      <td>3</td>\n",
       "      <td>2</td>\n",
       "      <td>2</td>\n",
       "      <td>...</td>\n",
       "      <td>2</td>\n",
       "      <td>False</td>\n",
       "      <td>True</td>\n",
       "      <td>True</td>\n",
       "      <td>False</td>\n",
       "      <td>required prompting optho treatment. Eye rinse ...</td>\n",
       "      <td>1.0</td>\n",
       "      <td>0.0</td>\n",
       "      <td>0.0</td>\n",
       "      <td>1.0</td>\n",
       "    </tr>\n",
       "    <tr>\n",
       "      <th>88</th>\n",
       "      <td>88</td>\n",
       "      <td>Sas</td>\n",
       "      <td>89</td>\n",
       "      <td>Very good image generation and interpretations...</td>\n",
       "      <td>4.0</td>\n",
       "      <td>2</td>\n",
       "      <td>39</td>\n",
       "      <td>1</td>\n",
       "      <td>2</td>\n",
       "      <td>2</td>\n",
       "      <td>...</td>\n",
       "      <td>2</td>\n",
       "      <td>False</td>\n",
       "      <td>True</td>\n",
       "      <td>True</td>\n",
       "      <td>False</td>\n",
       "      <td>Very good image generation and interpretations...</td>\n",
       "      <td>1.0</td>\n",
       "      <td>0.0</td>\n",
       "      <td>0.0</td>\n",
       "      <td>1.0</td>\n",
       "    </tr>\n",
       "  </tbody>\n",
       "</table>\n",
       "<p>5 rows × 30 columns</p>\n",
       "</div>"
      ],
      "text/plain": [
       "    commentId dataSource  NumberFromRawData  \\\n",
       "7           7        Sas                  8   \n",
       "35         35        Sas                 36   \n",
       "74         74        Sas                 75   \n",
       "86         86        Sas                 87   \n",
       "88         88        Sas                 89   \n",
       "\n",
       "                                              comment  rating  Survey N  \\\n",
       "7    The trainee had all the appropriate things re...     5.0         1   \n",
       "35  Thorough assessments and good clinical judgmen...     5.0         1   \n",
       "74   the trainee uses EDUS appropriately and with ...     5.0         2   \n",
       "86  required prompting optho treatment. Eye rinse ...     3.0         2   \n",
       "88  Very good image generation and interpretations...     4.0         2   \n",
       "\n",
       "    Question N  q1p1  q1p2  q2p1  ...  P2QualScore  Q1Match  Q2Match  Q3Match  \\\n",
       "7            8     3     2     2  ...            3    False     True    False   \n",
       "35          36     3     2     2  ...            2    False     True     True   \n",
       "74          25     1     2     2  ...            2    False     True     True   \n",
       "86          37     3     2     2  ...            2    False     True     True   \n",
       "88          39     1     2     2  ...            2    False     True     True   \n",
       "\n",
       "    perfectMatch                              RobMacCommentModified  RobMacQ1  \\\n",
       "7          False   The trainee had all the appropriate things re...       1.0   \n",
       "35         False  Thorough assessments and good clinical judgmen...       1.0   \n",
       "74         False   the trainee uses EDUS appropriately and with ...       1.0   \n",
       "86         False  required prompting optho treatment. Eye rinse ...       1.0   \n",
       "88         False  Very good image generation and interpretations...       1.0   \n",
       "\n",
       "    RobMacQ2  RobMacQ3  RobMacQualScore  \n",
       "7        0.0       0.0              1.0  \n",
       "35       0.0       0.0              1.0  \n",
       "74       0.0       0.0              1.0  \n",
       "86       0.0       0.0              1.0  \n",
       "88       0.0       0.0              1.0  \n",
       "\n",
       "[5 rows x 30 columns]"
      ]
     },
     "execution_count": 3,
     "metadata": {},
     "output_type": "execute_result"
    }
   ],
   "source": [
    "df.head()"
   ]
  },
  {
   "cell_type": "code",
   "execution_count": 4,
   "id": "053b99e9",
   "metadata": {},
   "outputs": [
    {
     "data": {
      "text/plain": [
       "(1074, 30)"
      ]
     },
     "execution_count": 4,
     "metadata": {},
     "output_type": "execute_result"
    }
   ],
   "source": [
    "#First let's merge initial scoring and  Rob and Mac's overrides.\n",
    "#This algo will ignore Rob and Mac's overrides on Perfect matches. As there was a mistake on previous document and probably wrong scoring\n",
    "\n",
    "\n",
    "dPerfect = df[df['perfectMatch'] == True ]\n",
    "\n",
    "dPerfect.shape\n"
   ]
  },
  {
   "cell_type": "code",
   "execution_count": 5,
   "id": "54394188",
   "metadata": {},
   "outputs": [
    {
     "data": {
      "text/plain": [
       "(1426, 30)"
      ]
     },
     "execution_count": 5,
     "metadata": {},
     "output_type": "execute_result"
    }
   ],
   "source": [
    "dNonPerfect = df[df['perfectMatch'] == False ]\n",
    "\n",
    "dNonPerfect.shape\n"
   ]
  },
  {
   "cell_type": "code",
   "execution_count": 6,
   "id": "e82d2875",
   "metadata": {},
   "outputs": [
    {
     "name": "stdout",
     "output_type": "stream",
     "text": [
      "2500\n"
     ]
    }
   ],
   "source": [
    "print( dPerfect.shape[0] + dNonPerfect.shape[0])\n"
   ]
  },
  {
   "cell_type": "code",
   "execution_count": 7,
   "id": "5e10b8d5",
   "metadata": {},
   "outputs": [],
   "source": [
    "df['Q1'] = dNonPerfect['RobMacQ1']\n",
    "df['Q2'] = dNonPerfect['RobMacQ2']\n",
    "df['Q3'] = dNonPerfect['RobMacQ3']\n",
    "df['QUAL'] = dNonPerfect['RobMacQualScore']\n",
    "\n",
    "#now fill the blanks from the original ratings.\n",
    "# it does not matter getting P1 or P2 score as they are perfect match\n",
    "\n",
    "df['Q1'].fillna(dPerfect['q1p1T'], inplace=True)\n",
    "df['Q2'].fillna(dPerfect['q2p1T'], inplace=True)\n",
    "df['Q3'].fillna(dPerfect['q3p1T'], inplace=True)\n",
    "df['QUAL'].fillna(dPerfect['P1QualScore'], inplace=True)\n",
    "\n"
   ]
  },
  {
   "cell_type": "code",
   "execution_count": 8,
   "id": "1f0d60cd",
   "metadata": {},
   "outputs": [
    {
     "data": {
      "text/plain": [
       "True     2497\n",
       "False       3\n",
       "Name: isQUALequal, dtype: int64"
      ]
     },
     "execution_count": 8,
     "metadata": {},
     "output_type": "execute_result"
    }
   ],
   "source": [
    "import numpy as np\n",
    "\n",
    "\n",
    "#calculate sum of qual scores and compare with the previous manually summed values to determine if they check out.\n",
    "df['summedQs'] = df['Q1']+df['Q2']+df['Q3']\n",
    "\n",
    "comparison_QUALScore_columns = np.where(df['summedQs'] == df['QUAL'], True, False)\n",
    "\n",
    "df[\"isQUALequal\"] = comparison_QUALScore_columns\n",
    "\n",
    "df[\"isQUALequal\"].value_counts()"
   ]
  },
  {
   "cell_type": "code",
   "execution_count": 9,
   "id": "6dcc7a9a",
   "metadata": {},
   "outputs": [],
   "source": [
    "#It seems that 3 qual scores sums do not check out. Let's replace them with actual calculation\n",
    "\n",
    "df.loc[(df.isQUALequal == False),'QUAL'] = df['summedQs']"
   ]
  },
  {
   "cell_type": "code",
   "execution_count": 10,
   "id": "ca77a516",
   "metadata": {},
   "outputs": [],
   "source": [
    "# let's drop summedQs and isQUALequal after checkking those values to avoid confusion.\n",
    "\n",
    "df.drop(['summedQs', 'isQUALequal'], axis=1, inplace=True)"
   ]
  },
  {
   "cell_type": "code",
   "execution_count": 11,
   "id": "6a6ba1eb",
   "metadata": {},
   "outputs": [
    {
     "data": {
      "text/plain": [
       "3.0    1262\n",
       "2.0     774\n",
       "1.0     359\n",
       "0.0     105\n",
       "Name: Q1, dtype: int64"
      ]
     },
     "execution_count": 11,
     "metadata": {},
     "output_type": "execute_result"
    }
   ],
   "source": [
    "df['Q1'].value_counts()"
   ]
  },
  {
   "cell_type": "code",
   "execution_count": 12,
   "id": "4d5b7987",
   "metadata": {},
   "outputs": [
    {
     "data": {
      "text/plain": [
       "0.0    2016\n",
       "1.0     484\n",
       "Name: Q2, dtype: int64"
      ]
     },
     "execution_count": 12,
     "metadata": {},
     "output_type": "execute_result"
    }
   ],
   "source": [
    "df['Q2'].value_counts()"
   ]
  },
  {
   "cell_type": "code",
   "execution_count": 13,
   "id": "d3612e38",
   "metadata": {},
   "outputs": [
    {
     "data": {
      "text/plain": [
       "0.0    2075\n",
       "1.0     425\n",
       "Name: Q3, dtype: int64"
      ]
     },
     "execution_count": 13,
     "metadata": {},
     "output_type": "execute_result"
    }
   ],
   "source": [
    "df['Q3'].value_counts()"
   ]
  },
  {
   "cell_type": "code",
   "execution_count": 14,
   "id": "aeb7f9a7",
   "metadata": {},
   "outputs": [
    {
     "data": {
      "text/plain": [
       "0.0    100\n",
       "1.0    338\n",
       "2.0    685\n",
       "3.0    957\n",
       "4.0     77\n",
       "5.0    343\n",
       "Name: QUAL, dtype: int64"
      ]
     },
     "execution_count": 14,
     "metadata": {},
     "output_type": "execute_result"
    }
   ],
   "source": [
    "df['QUAL'].value_counts().sort_index()"
   ]
  },
  {
   "cell_type": "code",
   "execution_count": 15,
   "id": "0a5dace6",
   "metadata": {},
   "outputs": [
    {
     "data": {
      "text/plain": [
       "0.0    0.0400\n",
       "1.0    0.1352\n",
       "2.0    0.2740\n",
       "3.0    0.3828\n",
       "4.0    0.0308\n",
       "5.0    0.1372\n",
       "Name: QUAL, dtype: float64"
      ]
     },
     "execution_count": 15,
     "metadata": {},
     "output_type": "execute_result"
    }
   ],
   "source": [
    "df['QUAL'].value_counts(normalize=True).sort_index()"
   ]
  },
  {
   "cell_type": "code",
   "execution_count": 16,
   "id": "cc7272f5",
   "metadata": {},
   "outputs": [
    {
     "data": {
      "text/plain": [
       "<AxesSubplot:>"
      ]
     },
     "execution_count": 16,
     "metadata": {},
     "output_type": "execute_result"
    },
    {
     "data": {
      "image/png": "[encoded data removed]",
      "text/plain": [
       "<Figure size 432x288 with 1 Axes>"
      ]
     },
     "metadata": {
      "needs_background": "light"
     },
     "output_type": "display_data"
    }
   ],
   "source": [
    "df['QUAL'].value_counts(normalize=True).sort_index().plot(kind='bar')\n",
    "\n",
    "# df['QUAL'].value_counts().sort_index().plot(kind='pie')"
   ]
  },
  {
   "cell_type": "code",
   "execution_count": 17,
   "id": "5ce79749",
   "metadata": {},
   "outputs": [
    {
     "data": {
      "text/html": [
       "<div>\n",
       "<style scoped>\n",
       "    .dataframe tbody tr th:only-of-type {\n",
       "        vertical-align: middle;\n",
       "    }\n",
       "\n",
       "    .dataframe tbody tr th {\n",
       "        vertical-align: top;\n",
       "    }\n",
       "\n",
       "    .dataframe thead th {\n",
       "        text-align: right;\n",
       "    }\n",
       "</style>\n",
       "<table border=\"1\" class=\"dataframe\">\n",
       "  <thead>\n",
       "    <tr style=\"text-align: right;\">\n",
       "      <th></th>\n",
       "      <th>count</th>\n",
       "      <th>mean</th>\n",
       "      <th>std</th>\n",
       "      <th>min</th>\n",
       "      <th>25%</th>\n",
       "      <th>50%</th>\n",
       "      <th>75%</th>\n",
       "      <th>max</th>\n",
       "    </tr>\n",
       "  </thead>\n",
       "  <tbody>\n",
       "    <tr>\n",
       "      <th>Q1</th>\n",
       "      <td>2500.0</td>\n",
       "      <td>2.2772</td>\n",
       "      <td>0.860149</td>\n",
       "      <td>0.0</td>\n",
       "      <td>2.0</td>\n",
       "      <td>3.0</td>\n",
       "      <td>3.0</td>\n",
       "      <td>3.0</td>\n",
       "    </tr>\n",
       "    <tr>\n",
       "      <th>Q2</th>\n",
       "      <td>2500.0</td>\n",
       "      <td>0.1936</td>\n",
       "      <td>0.395198</td>\n",
       "      <td>0.0</td>\n",
       "      <td>0.0</td>\n",
       "      <td>0.0</td>\n",
       "      <td>0.0</td>\n",
       "      <td>1.0</td>\n",
       "    </tr>\n",
       "    <tr>\n",
       "      <th>Q3</th>\n",
       "      <td>2500.0</td>\n",
       "      <td>0.1700</td>\n",
       "      <td>0.375708</td>\n",
       "      <td>0.0</td>\n",
       "      <td>0.0</td>\n",
       "      <td>0.0</td>\n",
       "      <td>0.0</td>\n",
       "      <td>1.0</td>\n",
       "    </tr>\n",
       "    <tr>\n",
       "      <th>QUAL</th>\n",
       "      <td>2500.0</td>\n",
       "      <td>2.6408</td>\n",
       "      <td>1.275157</td>\n",
       "      <td>0.0</td>\n",
       "      <td>2.0</td>\n",
       "      <td>3.0</td>\n",
       "      <td>3.0</td>\n",
       "      <td>5.0</td>\n",
       "    </tr>\n",
       "  </tbody>\n",
       "</table>\n",
       "</div>"
      ],
      "text/plain": [
       "       count    mean       std  min  25%  50%  75%  max\n",
       "Q1    2500.0  2.2772  0.860149  0.0  2.0  3.0  3.0  3.0\n",
       "Q2    2500.0  0.1936  0.395198  0.0  0.0  0.0  0.0  1.0\n",
       "Q3    2500.0  0.1700  0.375708  0.0  0.0  0.0  0.0  1.0\n",
       "QUAL  2500.0  2.6408  1.275157  0.0  2.0  3.0  3.0  5.0"
      ]
     },
     "execution_count": 17,
     "metadata": {},
     "output_type": "execute_result"
    }
   ],
   "source": [
    "df[['Q1', 'Q2', 'Q3', 'QUAL']].describe().T"
   ]
  },
  {
   "cell_type": "code",
   "execution_count": 22,
   "id": "5bd0d7db",
   "metadata": {},
   "outputs": [],
   "source": [
    "df['feedbackWordCount'] = df['RobMacCommentModified'].str.split().str.len()\n",
    "\n",
    "df['feedbackCharCount'] = df['RobMacCommentModified'].str.len()\n",
    "\n",
    "df['feedbackWordCount'].fillna(0, inplace=True)\n",
    "\n",
    "df['feedbackCharCount'].fillna(0, inplace=True)"
   ]
  },
  {
   "cell_type": "code",
   "execution_count": 39,
   "id": "8daa76f6",
   "metadata": {},
   "outputs": [
    {
     "data": {
      "text/plain": [
       "count    2500.000000\n",
       "mean       33.868400\n",
       "std        46.932736\n",
       "min         0.000000\n",
       "25%         9.000000\n",
       "50%        17.000000\n",
       "75%        38.000000\n",
       "max       457.000000\n",
       "Name: feedbackWordCount, dtype: float64"
      ]
     },
     "execution_count": 39,
     "metadata": {},
     "output_type": "execute_result"
    },
    {
     "data": {
      "image/png": "[encoded data removed]",
      "text/plain": [
       "<Figure size 432x288 with 1 Axes>"
      ]
     },
     "metadata": {
      "needs_background": "light"
     },
     "output_type": "display_data"
    }
   ],
   "source": [
    "df['feedbackWordCount'].value_counts().sort_index()\n",
    "\n",
    "df.hist(column='feedbackWordCount')\n",
    "\n",
    "df['feedbackWordCount'].describe()"
   ]
  },
  {
   "cell_type": "code",
   "execution_count": 21,
   "id": "44181ff0",
   "metadata": {},
   "outputs": [],
   "source": [
    "#lets create a masterDB for NLP use and only get the final data to be used in analaysis.\n",
    "\n",
    "dfForNLP = df[['commentId', 'dataSource', 'NumberFromRawData', 'RobMacCommentModified',\n",
    "                                                             #we will get Rob's edited comments \n",
    "                                                            #as they made the final decision on it.\n",
    "               'rating', 'Survey N', 'Question N',\n",
    "               'Q1', 'Q2', 'Q3', 'QUAL',\n",
    "               'feedbackWordCount', 'feedbackCharCount',\n",
    "              \n",
    "              ]].copy()\n",
    "\n",
    "dfForNLP.rename(columns = {'RobMacCommentModified':'feedback', 'commentId':'rawCommentId'}, inplace = True)\n",
    "\n",
    "df.to_excel(\"masterDbTextPreProcessed.xlsx\")\n",
    "dfForNLP.to_excel(\"masterDbforNLPAnalysis.xlsx\")"
   ]
  },
  {
   "cell_type": "code",
   "execution_count": null,
   "id": "6e59bcac",
   "metadata": {},
   "outputs": [],
   "source": []
  }
 ],
 "metadata": {
  "kernelspec": {
   "display_name": "Python 3 (ipykernel)",
   "language": "python",
   "name": "python3"
  },
  "language_info": {
   "codemirror_mode": {
    "name": "ipython",
    "version": 3
   },
   "file_extension": ".py",
   "mimetype": "text/x-python",
   "name": "python",
   "nbconvert_exporter": "python",
   "pygments_lexer": "ipython3",
   "version": "3.8.8"
  }
 },
 "nbformat": 4,
 "nbformat_minor": 5
}
